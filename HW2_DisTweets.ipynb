{
 "cells": [
  {
   "cell_type": "code",
   "execution_count": 1,
   "id": "7e9f3640",
   "metadata": {},
   "outputs": [],
   "source": [
    "import numpy as np\n",
    "import pandas as pd\n",
    "import matplotlib.pyplot as plt\n",
    "from sklearn.model_selection import train_test_split\n",
    "from sklearn.feature_extraction.text import CountVectorizer\n",
    "from sklearn.feature_extraction.text import TfidfTransformer\n",
    "from sklearn.linear_model import LogisticRegression\n",
    "from sklearn.metrics import f1_score\n",
    "import re\n",
    "import string\n",
    "import nltk\n",
    "\n",
    "%matplotlib inline"
   ]
  },
  {
   "cell_type": "code",
   "execution_count": 2,
   "id": "d1da09c9",
   "metadata": {},
   "outputs": [],
   "source": [
    "train = pd.read_csv(\"C:\\\\Users\\\\sidar\\\\Downloads\\\\DisasterTweets\\\\train.csv\")\n",
    "test = pd.read_csv(\"C:\\\\Users\\\\sidar\\\\Downloads\\\\DisasterTweets\\\\test.csv\")"
   ]
  },
  {
   "cell_type": "code",
   "execution_count": 3,
   "id": "eccad9dc",
   "metadata": {},
   "outputs": [],
   "source": [
    "X_train = train.drop(['target'], axis=1)\n",
    "y_train = train['target']\n",
    "y = y_train"
   ]
  },
  {
   "cell_type": "markdown",
   "id": "5daf9639",
   "metadata": {},
   "source": [
    "### Finding the number of train and test data points"
   ]
  },
  {
   "cell_type": "code",
   "execution_count": 4,
   "id": "430c2e92",
   "metadata": {},
   "outputs": [
    {
     "name": "stdout",
     "output_type": "stream",
     "text": [
      "<class 'pandas.core.frame.DataFrame'>\n",
      "RangeIndex: 7613 entries, 0 to 7612\n",
      "Data columns (total 5 columns):\n",
      " #   Column    Non-Null Count  Dtype \n",
      "---  ------    --------------  ----- \n",
      " 0   id        7613 non-null   int64 \n",
      " 1   keyword   7552 non-null   object\n",
      " 2   location  5080 non-null   object\n",
      " 3   text      7613 non-null   object\n",
      " 4   target    7613 non-null   int64 \n",
      "dtypes: int64(2), object(3)\n",
      "memory usage: 297.5+ KB\n"
     ]
    }
   ],
   "source": [
    "train.info()"
   ]
  },
  {
   "cell_type": "code",
   "execution_count": 5,
   "id": "97bca869",
   "metadata": {},
   "outputs": [
    {
     "name": "stdout",
     "output_type": "stream",
     "text": [
      "<class 'pandas.core.frame.DataFrame'>\n",
      "RangeIndex: 3263 entries, 0 to 3262\n",
      "Data columns (total 4 columns):\n",
      " #   Column    Non-Null Count  Dtype \n",
      "---  ------    --------------  ----- \n",
      " 0   id        3263 non-null   int64 \n",
      " 1   keyword   3237 non-null   object\n",
      " 2   location  2158 non-null   object\n",
      " 3   text      3263 non-null   object\n",
      "dtypes: int64(1), object(3)\n",
      "memory usage: 102.1+ KB\n"
     ]
    }
   ],
   "source": [
    "test.info()"
   ]
  },
  {
   "cell_type": "markdown",
   "id": "cad58278",
   "metadata": {},
   "source": [
    "### Finding the number of tweets that are actually about real disasters."
   ]
  },
  {
   "cell_type": "code",
   "execution_count": 6,
   "id": "fe7735e4",
   "metadata": {},
   "outputs": [
    {
     "data": {
      "text/plain": [
       "42.96597924602653"
      ]
     },
     "execution_count": 6,
     "metadata": {},
     "output_type": "execute_result"
    }
   ],
   "source": [
    "percentage_real = (train['target'].sum() / train['target'].count()) * 100\n",
    "percentage_real"
   ]
  },
  {
   "cell_type": "markdown",
   "id": "7c6806d3",
   "metadata": {},
   "source": [
    "Which implies that the number of tweets that aren't about real disasters is 57.034."
   ]
  },
  {
   "cell_type": "markdown",
   "id": "ef1fd6f3",
   "metadata": {},
   "source": [
    "# Preprocessing"
   ]
  },
  {
   "cell_type": "code",
   "execution_count": 7,
   "id": "11bf766d",
   "metadata": {},
   "outputs": [
    {
     "data": {
      "text/html": [
       "<div>\n",
       "<style scoped>\n",
       "    .dataframe tbody tr th:only-of-type {\n",
       "        vertical-align: middle;\n",
       "    }\n",
       "\n",
       "    .dataframe tbody tr th {\n",
       "        vertical-align: top;\n",
       "    }\n",
       "\n",
       "    .dataframe thead th {\n",
       "        text-align: right;\n",
       "    }\n",
       "</style>\n",
       "<table border=\"1\" class=\"dataframe\">\n",
       "  <thead>\n",
       "    <tr style=\"text-align: right;\">\n",
       "      <th></th>\n",
       "      <th>id</th>\n",
       "      <th>keyword</th>\n",
       "      <th>location</th>\n",
       "      <th>text</th>\n",
       "    </tr>\n",
       "  </thead>\n",
       "  <tbody>\n",
       "    <tr>\n",
       "      <th>0</th>\n",
       "      <td>1</td>\n",
       "      <td>NaN</td>\n",
       "      <td>NaN</td>\n",
       "      <td>Our Deeds are the Reason of this #earthquake M...</td>\n",
       "    </tr>\n",
       "    <tr>\n",
       "      <th>1</th>\n",
       "      <td>4</td>\n",
       "      <td>NaN</td>\n",
       "      <td>NaN</td>\n",
       "      <td>Forest fire near La Ronge Sask. Canada</td>\n",
       "    </tr>\n",
       "    <tr>\n",
       "      <th>2</th>\n",
       "      <td>5</td>\n",
       "      <td>NaN</td>\n",
       "      <td>NaN</td>\n",
       "      <td>All residents asked to 'shelter in place' are ...</td>\n",
       "    </tr>\n",
       "    <tr>\n",
       "      <th>3</th>\n",
       "      <td>6</td>\n",
       "      <td>NaN</td>\n",
       "      <td>NaN</td>\n",
       "      <td>13,000 people receive #wildfires evacuation or...</td>\n",
       "    </tr>\n",
       "    <tr>\n",
       "      <th>4</th>\n",
       "      <td>7</td>\n",
       "      <td>NaN</td>\n",
       "      <td>NaN</td>\n",
       "      <td>Just got sent this photo from Ruby #Alaska as ...</td>\n",
       "    </tr>\n",
       "  </tbody>\n",
       "</table>\n",
       "</div>"
      ],
      "text/plain": [
       "   id keyword location                                               text\n",
       "0   1     NaN      NaN  Our Deeds are the Reason of this #earthquake M...\n",
       "1   4     NaN      NaN             Forest fire near La Ronge Sask. Canada\n",
       "2   5     NaN      NaN  All residents asked to 'shelter in place' are ...\n",
       "3   6     NaN      NaN  13,000 people receive #wildfires evacuation or...\n",
       "4   7     NaN      NaN  Just got sent this photo from Ruby #Alaska as ..."
      ]
     },
     "execution_count": 7,
     "metadata": {},
     "output_type": "execute_result"
    }
   ],
   "source": [
    "X_train.head()"
   ]
  },
  {
   "cell_type": "code",
   "execution_count": 8,
   "id": "58a1566f",
   "metadata": {},
   "outputs": [],
   "source": [
    "X = pd.DataFrame(X_train[\"id\"])\n",
    "X = pd.concat([X, X_train[\"keyword\"].str.lower()], axis=1)\n",
    "X = pd.concat([X, X_train[\"location\"].str.lower()], axis=1)\n",
    "X = pd.concat([X, X_train[\"text\"].str.lower()], axis=1)\n",
    "\n",
    "t = pd.DataFrame(test[\"id\"])\n",
    "t = pd.concat([t, test[\"keyword\"].str.lower()], axis=1)\n",
    "t = pd.concat([t, test[\"location\"].str.lower()], axis=1)\n",
    "t = pd.concat([t, test[\"text\"].str.lower()], axis=1)"
   ]
  },
  {
   "cell_type": "code",
   "execution_count": 9,
   "id": "59271d97",
   "metadata": {},
   "outputs": [],
   "source": [
    "def drop_url(t):\n",
    "    url = re.compile(r'https?://\\S+|www\\.\\S+')\n",
    "    return url.sub(r'',t)\n",
    "\n",
    "X['text'] = X['text'].apply(lambda x : drop_url(x))\n",
    "t['text'] = t['text'].apply(lambda x : drop_url(x))"
   ]
  },
  {
   "cell_type": "code",
   "execution_count": 10,
   "id": "c1a6a54e",
   "metadata": {},
   "outputs": [],
   "source": [
    "def drop_mentions(t):\n",
    "    url = re.compile(r'@\\S+')\n",
    "    return url.sub(r'',t)\n",
    "\n",
    "X['text'] = X['text'].apply(lambda x : drop_mentions(x))\n",
    "t['text'] = t['text'].apply(lambda x : drop_mentions(x))"
   ]
  },
  {
   "cell_type": "code",
   "execution_count": 11,
   "id": "fd191bba",
   "metadata": {},
   "outputs": [],
   "source": [
    "def punctuation(text):\n",
    "    table=str.maketrans('','',string.punctuation)\n",
    "    return text.translate(table)\n",
    "\n",
    "X['text'] = X['text'].apply(lambda x : punctuation(x))\n",
    "t['text'] = t['text'].apply(lambda x : punctuation(x))"
   ]
  },
  {
   "cell_type": "code",
   "execution_count": 12,
   "id": "67aa3994",
   "metadata": {},
   "outputs": [
    {
     "data": {
      "text/html": [
       "<div>\n",
       "<style scoped>\n",
       "    .dataframe tbody tr th:only-of-type {\n",
       "        vertical-align: middle;\n",
       "    }\n",
       "\n",
       "    .dataframe tbody tr th {\n",
       "        vertical-align: top;\n",
       "    }\n",
       "\n",
       "    .dataframe thead th {\n",
       "        text-align: right;\n",
       "    }\n",
       "</style>\n",
       "<table border=\"1\" class=\"dataframe\">\n",
       "  <thead>\n",
       "    <tr style=\"text-align: right;\">\n",
       "      <th></th>\n",
       "      <th>id</th>\n",
       "      <th>keyword</th>\n",
       "      <th>location</th>\n",
       "      <th>text</th>\n",
       "    </tr>\n",
       "  </thead>\n",
       "  <tbody>\n",
       "    <tr>\n",
       "      <th>0</th>\n",
       "      <td>1</td>\n",
       "      <td>NaN</td>\n",
       "      <td>NaN</td>\n",
       "      <td>our deeds are the reason of this earthquake ma...</td>\n",
       "    </tr>\n",
       "    <tr>\n",
       "      <th>1</th>\n",
       "      <td>4</td>\n",
       "      <td>NaN</td>\n",
       "      <td>NaN</td>\n",
       "      <td>forest fire near la ronge sask canada</td>\n",
       "    </tr>\n",
       "    <tr>\n",
       "      <th>2</th>\n",
       "      <td>5</td>\n",
       "      <td>NaN</td>\n",
       "      <td>NaN</td>\n",
       "      <td>all residents asked to shelter in place are be...</td>\n",
       "    </tr>\n",
       "    <tr>\n",
       "      <th>3</th>\n",
       "      <td>6</td>\n",
       "      <td>NaN</td>\n",
       "      <td>NaN</td>\n",
       "      <td>13000 people receive wildfires evacuation orde...</td>\n",
       "    </tr>\n",
       "    <tr>\n",
       "      <th>4</th>\n",
       "      <td>7</td>\n",
       "      <td>NaN</td>\n",
       "      <td>NaN</td>\n",
       "      <td>just got sent this photo from ruby alaska as s...</td>\n",
       "    </tr>\n",
       "    <tr>\n",
       "      <th>5</th>\n",
       "      <td>8</td>\n",
       "      <td>NaN</td>\n",
       "      <td>NaN</td>\n",
       "      <td>rockyfire update  california hwy 20 closed in ...</td>\n",
       "    </tr>\n",
       "    <tr>\n",
       "      <th>6</th>\n",
       "      <td>10</td>\n",
       "      <td>NaN</td>\n",
       "      <td>NaN</td>\n",
       "      <td>flood disaster heavy rain causes flash floodin...</td>\n",
       "    </tr>\n",
       "    <tr>\n",
       "      <th>7</th>\n",
       "      <td>13</td>\n",
       "      <td>NaN</td>\n",
       "      <td>NaN</td>\n",
       "      <td>im on top of the hill and i can see a fire in ...</td>\n",
       "    </tr>\n",
       "    <tr>\n",
       "      <th>8</th>\n",
       "      <td>14</td>\n",
       "      <td>NaN</td>\n",
       "      <td>NaN</td>\n",
       "      <td>theres an emergency evacuation happening now i...</td>\n",
       "    </tr>\n",
       "    <tr>\n",
       "      <th>9</th>\n",
       "      <td>15</td>\n",
       "      <td>NaN</td>\n",
       "      <td>NaN</td>\n",
       "      <td>im afraid that the tornado is coming to our area</td>\n",
       "    </tr>\n",
       "    <tr>\n",
       "      <th>10</th>\n",
       "      <td>16</td>\n",
       "      <td>NaN</td>\n",
       "      <td>NaN</td>\n",
       "      <td>three people died from the heat wave so far</td>\n",
       "    </tr>\n",
       "    <tr>\n",
       "      <th>11</th>\n",
       "      <td>17</td>\n",
       "      <td>NaN</td>\n",
       "      <td>NaN</td>\n",
       "      <td>haha south tampa is getting flooded hah wait a...</td>\n",
       "    </tr>\n",
       "    <tr>\n",
       "      <th>12</th>\n",
       "      <td>18</td>\n",
       "      <td>NaN</td>\n",
       "      <td>NaN</td>\n",
       "      <td>raining flooding florida tampabay tampa 18 or ...</td>\n",
       "    </tr>\n",
       "    <tr>\n",
       "      <th>13</th>\n",
       "      <td>19</td>\n",
       "      <td>NaN</td>\n",
       "      <td>NaN</td>\n",
       "      <td>flood in bago myanmar we arrived bago</td>\n",
       "    </tr>\n",
       "    <tr>\n",
       "      <th>14</th>\n",
       "      <td>20</td>\n",
       "      <td>NaN</td>\n",
       "      <td>NaN</td>\n",
       "      <td>damage to school bus on 80 in multi car crash ...</td>\n",
       "    </tr>\n",
       "    <tr>\n",
       "      <th>15</th>\n",
       "      <td>23</td>\n",
       "      <td>NaN</td>\n",
       "      <td>NaN</td>\n",
       "      <td>whats up man</td>\n",
       "    </tr>\n",
       "    <tr>\n",
       "      <th>16</th>\n",
       "      <td>24</td>\n",
       "      <td>NaN</td>\n",
       "      <td>NaN</td>\n",
       "      <td>i love fruits</td>\n",
       "    </tr>\n",
       "    <tr>\n",
       "      <th>17</th>\n",
       "      <td>25</td>\n",
       "      <td>NaN</td>\n",
       "      <td>NaN</td>\n",
       "      <td>summer is lovely</td>\n",
       "    </tr>\n",
       "    <tr>\n",
       "      <th>18</th>\n",
       "      <td>26</td>\n",
       "      <td>NaN</td>\n",
       "      <td>NaN</td>\n",
       "      <td>my car is so fast</td>\n",
       "    </tr>\n",
       "    <tr>\n",
       "      <th>19</th>\n",
       "      <td>28</td>\n",
       "      <td>NaN</td>\n",
       "      <td>NaN</td>\n",
       "      <td>what a goooooooaaaaaal</td>\n",
       "    </tr>\n",
       "  </tbody>\n",
       "</table>\n",
       "</div>"
      ],
      "text/plain": [
       "    id keyword location                                               text\n",
       "0    1     NaN      NaN  our deeds are the reason of this earthquake ma...\n",
       "1    4     NaN      NaN              forest fire near la ronge sask canada\n",
       "2    5     NaN      NaN  all residents asked to shelter in place are be...\n",
       "3    6     NaN      NaN  13000 people receive wildfires evacuation orde...\n",
       "4    7     NaN      NaN  just got sent this photo from ruby alaska as s...\n",
       "5    8     NaN      NaN  rockyfire update  california hwy 20 closed in ...\n",
       "6   10     NaN      NaN  flood disaster heavy rain causes flash floodin...\n",
       "7   13     NaN      NaN  im on top of the hill and i can see a fire in ...\n",
       "8   14     NaN      NaN  theres an emergency evacuation happening now i...\n",
       "9   15     NaN      NaN   im afraid that the tornado is coming to our area\n",
       "10  16     NaN      NaN        three people died from the heat wave so far\n",
       "11  17     NaN      NaN  haha south tampa is getting flooded hah wait a...\n",
       "12  18     NaN      NaN  raining flooding florida tampabay tampa 18 or ...\n",
       "13  19     NaN      NaN              flood in bago myanmar we arrived bago\n",
       "14  20     NaN      NaN  damage to school bus on 80 in multi car crash ...\n",
       "15  23     NaN      NaN                                       whats up man\n",
       "16  24     NaN      NaN                                      i love fruits\n",
       "17  25     NaN      NaN                                   summer is lovely\n",
       "18  26     NaN      NaN                                  my car is so fast\n",
       "19  28     NaN      NaN                             what a goooooooaaaaaal"
      ]
     },
     "execution_count": 12,
     "metadata": {},
     "output_type": "execute_result"
    }
   ],
   "source": [
    "#X_train[\"text\"] = X_train[\"text\"].str.split()\n",
    "X.head(20)"
   ]
  },
  {
   "cell_type": "markdown",
   "id": "89bfa683",
   "metadata": {},
   "source": [
    "Next, we stem the words to increase the uniformity and make sure that tense and related conjugations don't confuse the algorithm."
   ]
  },
  {
   "cell_type": "code",
   "execution_count": 13,
   "id": "e31f4852",
   "metadata": {},
   "outputs": [],
   "source": [
    "lemmatizer = nltk.stem.PorterStemmer()\n",
    "for x in X[\"text\"]:\n",
    "    x = lemmatizer.stem(x)"
   ]
  },
  {
   "cell_type": "code",
   "execution_count": 14,
   "id": "0868c554",
   "metadata": {},
   "outputs": [],
   "source": [
    "for x in t[\"text\"]:\n",
    "    x = lemmatizer.stem(x)"
   ]
  },
  {
   "cell_type": "code",
   "execution_count": 15,
   "id": "4a726b83",
   "metadata": {},
   "outputs": [
    {
     "data": {
      "text/html": [
       "<div>\n",
       "<style scoped>\n",
       "    .dataframe tbody tr th:only-of-type {\n",
       "        vertical-align: middle;\n",
       "    }\n",
       "\n",
       "    .dataframe tbody tr th {\n",
       "        vertical-align: top;\n",
       "    }\n",
       "\n",
       "    .dataframe thead th {\n",
       "        text-align: right;\n",
       "    }\n",
       "</style>\n",
       "<table border=\"1\" class=\"dataframe\">\n",
       "  <thead>\n",
       "    <tr style=\"text-align: right;\">\n",
       "      <th></th>\n",
       "      <th>id</th>\n",
       "      <th>keyword</th>\n",
       "      <th>location</th>\n",
       "      <th>text</th>\n",
       "    </tr>\n",
       "  </thead>\n",
       "  <tbody>\n",
       "    <tr>\n",
       "      <th>0</th>\n",
       "      <td>0</td>\n",
       "      <td>NaN</td>\n",
       "      <td>NaN</td>\n",
       "      <td>just happened a terrible car crash</td>\n",
       "    </tr>\n",
       "    <tr>\n",
       "      <th>1</th>\n",
       "      <td>2</td>\n",
       "      <td>NaN</td>\n",
       "      <td>NaN</td>\n",
       "      <td>heard about earthquake is different cities sta...</td>\n",
       "    </tr>\n",
       "    <tr>\n",
       "      <th>2</th>\n",
       "      <td>3</td>\n",
       "      <td>NaN</td>\n",
       "      <td>NaN</td>\n",
       "      <td>there is a forest fire at spot pond geese are ...</td>\n",
       "    </tr>\n",
       "    <tr>\n",
       "      <th>3</th>\n",
       "      <td>9</td>\n",
       "      <td>NaN</td>\n",
       "      <td>NaN</td>\n",
       "      <td>apocalypse lighting spokane wildfires</td>\n",
       "    </tr>\n",
       "    <tr>\n",
       "      <th>4</th>\n",
       "      <td>11</td>\n",
       "      <td>NaN</td>\n",
       "      <td>NaN</td>\n",
       "      <td>typhoon soudelor kills 28 in china and taiwan</td>\n",
       "    </tr>\n",
       "  </tbody>\n",
       "</table>\n",
       "</div>"
      ],
      "text/plain": [
       "   id keyword location                                               text\n",
       "0   0     NaN      NaN                 just happened a terrible car crash\n",
       "1   2     NaN      NaN  heard about earthquake is different cities sta...\n",
       "2   3     NaN      NaN  there is a forest fire at spot pond geese are ...\n",
       "3   9     NaN      NaN              apocalypse lighting spokane wildfires\n",
       "4  11     NaN      NaN      typhoon soudelor kills 28 in china and taiwan"
      ]
     },
     "execution_count": 15,
     "metadata": {},
     "output_type": "execute_result"
    }
   ],
   "source": [
    "for a in X['keyword']:\n",
    "    if a is None:\n",
    "        a = \"\"\n",
    "for a in t['keyword']:\n",
    "    if a is None:\n",
    "        a = \"\"\n",
    "t.head()"
   ]
  },
  {
   "cell_type": "code",
   "execution_count": 16,
   "id": "b903d332",
   "metadata": {},
   "outputs": [
    {
     "data": {
      "text/html": [
       "<div>\n",
       "<style scoped>\n",
       "    .dataframe tbody tr th:only-of-type {\n",
       "        vertical-align: middle;\n",
       "    }\n",
       "\n",
       "    .dataframe tbody tr th {\n",
       "        vertical-align: top;\n",
       "    }\n",
       "\n",
       "    .dataframe thead th {\n",
       "        text-align: right;\n",
       "    }\n",
       "</style>\n",
       "<table border=\"1\" class=\"dataframe\">\n",
       "  <thead>\n",
       "    <tr style=\"text-align: right;\">\n",
       "      <th></th>\n",
       "      <th>id</th>\n",
       "      <th>keyword</th>\n",
       "      <th>location</th>\n",
       "      <th>text</th>\n",
       "    </tr>\n",
       "  </thead>\n",
       "  <tbody>\n",
       "    <tr>\n",
       "      <th>0</th>\n",
       "      <td>1</td>\n",
       "      <td>nan</td>\n",
       "      <td>NaN</td>\n",
       "      <td>our deeds are the reason of this earthquake ma...</td>\n",
       "    </tr>\n",
       "    <tr>\n",
       "      <th>1</th>\n",
       "      <td>4</td>\n",
       "      <td>nan</td>\n",
       "      <td>NaN</td>\n",
       "      <td>forest fire near la ronge sask canada</td>\n",
       "    </tr>\n",
       "    <tr>\n",
       "      <th>2</th>\n",
       "      <td>5</td>\n",
       "      <td>nan</td>\n",
       "      <td>NaN</td>\n",
       "      <td>all residents asked to shelter in place are be...</td>\n",
       "    </tr>\n",
       "    <tr>\n",
       "      <th>3</th>\n",
       "      <td>6</td>\n",
       "      <td>nan</td>\n",
       "      <td>NaN</td>\n",
       "      <td>13000 people receive wildfires evacuation orde...</td>\n",
       "    </tr>\n",
       "    <tr>\n",
       "      <th>4</th>\n",
       "      <td>7</td>\n",
       "      <td>nan</td>\n",
       "      <td>NaN</td>\n",
       "      <td>just got sent this photo from ruby alaska as s...</td>\n",
       "    </tr>\n",
       "    <tr>\n",
       "      <th>5</th>\n",
       "      <td>8</td>\n",
       "      <td>nan</td>\n",
       "      <td>NaN</td>\n",
       "      <td>rockyfire update  california hwy 20 closed in ...</td>\n",
       "    </tr>\n",
       "    <tr>\n",
       "      <th>6</th>\n",
       "      <td>10</td>\n",
       "      <td>nan</td>\n",
       "      <td>NaN</td>\n",
       "      <td>flood disaster heavy rain causes flash floodin...</td>\n",
       "    </tr>\n",
       "    <tr>\n",
       "      <th>7</th>\n",
       "      <td>13</td>\n",
       "      <td>nan</td>\n",
       "      <td>NaN</td>\n",
       "      <td>im on top of the hill and i can see a fire in ...</td>\n",
       "    </tr>\n",
       "    <tr>\n",
       "      <th>8</th>\n",
       "      <td>14</td>\n",
       "      <td>nan</td>\n",
       "      <td>NaN</td>\n",
       "      <td>theres an emergency evacuation happening now i...</td>\n",
       "    </tr>\n",
       "    <tr>\n",
       "      <th>9</th>\n",
       "      <td>15</td>\n",
       "      <td>nan</td>\n",
       "      <td>NaN</td>\n",
       "      <td>im afraid that the tornado is coming to our area</td>\n",
       "    </tr>\n",
       "    <tr>\n",
       "      <th>10</th>\n",
       "      <td>16</td>\n",
       "      <td>nan</td>\n",
       "      <td>NaN</td>\n",
       "      <td>three people died from the heat wave so far</td>\n",
       "    </tr>\n",
       "    <tr>\n",
       "      <th>11</th>\n",
       "      <td>17</td>\n",
       "      <td>nan</td>\n",
       "      <td>NaN</td>\n",
       "      <td>haha south tampa is getting flooded hah wait a...</td>\n",
       "    </tr>\n",
       "    <tr>\n",
       "      <th>12</th>\n",
       "      <td>18</td>\n",
       "      <td>nan</td>\n",
       "      <td>NaN</td>\n",
       "      <td>raining flooding florida tampabay tampa 18 or ...</td>\n",
       "    </tr>\n",
       "    <tr>\n",
       "      <th>13</th>\n",
       "      <td>19</td>\n",
       "      <td>nan</td>\n",
       "      <td>NaN</td>\n",
       "      <td>flood in bago myanmar we arrived bago</td>\n",
       "    </tr>\n",
       "    <tr>\n",
       "      <th>14</th>\n",
       "      <td>20</td>\n",
       "      <td>nan</td>\n",
       "      <td>NaN</td>\n",
       "      <td>damage to school bus on 80 in multi car crash ...</td>\n",
       "    </tr>\n",
       "    <tr>\n",
       "      <th>15</th>\n",
       "      <td>23</td>\n",
       "      <td>nan</td>\n",
       "      <td>NaN</td>\n",
       "      <td>whats up man</td>\n",
       "    </tr>\n",
       "    <tr>\n",
       "      <th>16</th>\n",
       "      <td>24</td>\n",
       "      <td>nan</td>\n",
       "      <td>NaN</td>\n",
       "      <td>i love fruits</td>\n",
       "    </tr>\n",
       "    <tr>\n",
       "      <th>17</th>\n",
       "      <td>25</td>\n",
       "      <td>nan</td>\n",
       "      <td>NaN</td>\n",
       "      <td>summer is lovely</td>\n",
       "    </tr>\n",
       "    <tr>\n",
       "      <th>18</th>\n",
       "      <td>26</td>\n",
       "      <td>nan</td>\n",
       "      <td>NaN</td>\n",
       "      <td>my car is so fast</td>\n",
       "    </tr>\n",
       "    <tr>\n",
       "      <th>19</th>\n",
       "      <td>28</td>\n",
       "      <td>nan</td>\n",
       "      <td>NaN</td>\n",
       "      <td>what a goooooooaaaaaal</td>\n",
       "    </tr>\n",
       "  </tbody>\n",
       "</table>\n",
       "</div>"
      ],
      "text/plain": [
       "    id keyword location                                               text\n",
       "0    1     nan      NaN  our deeds are the reason of this earthquake ma...\n",
       "1    4     nan      NaN              forest fire near la ronge sask canada\n",
       "2    5     nan      NaN  all residents asked to shelter in place are be...\n",
       "3    6     nan      NaN  13000 people receive wildfires evacuation orde...\n",
       "4    7     nan      NaN  just got sent this photo from ruby alaska as s...\n",
       "5    8     nan      NaN  rockyfire update  california hwy 20 closed in ...\n",
       "6   10     nan      NaN  flood disaster heavy rain causes flash floodin...\n",
       "7   13     nan      NaN  im on top of the hill and i can see a fire in ...\n",
       "8   14     nan      NaN  theres an emergency evacuation happening now i...\n",
       "9   15     nan      NaN   im afraid that the tornado is coming to our area\n",
       "10  16     nan      NaN        three people died from the heat wave so far\n",
       "11  17     nan      NaN  haha south tampa is getting flooded hah wait a...\n",
       "12  18     nan      NaN  raining flooding florida tampabay tampa 18 or ...\n",
       "13  19     nan      NaN              flood in bago myanmar we arrived bago\n",
       "14  20     nan      NaN  damage to school bus on 80 in multi car crash ...\n",
       "15  23     nan      NaN                                       whats up man\n",
       "16  24     nan      NaN                                      i love fruits\n",
       "17  25     nan      NaN                                   summer is lovely\n",
       "18  26     nan      NaN                                  my car is so fast\n",
       "19  28     nan      NaN                             what a goooooooaaaaaal"
      ]
     },
     "execution_count": 16,
     "metadata": {},
     "output_type": "execute_result"
    }
   ],
   "source": [
    "X['keyword'] = X['keyword'].apply(lambda b: str(b).replace('%20', ' '))\n",
    "t['keyword'] = t['keyword'].apply(lambda b: str(b).replace('%20', ' '))\n",
    "\n",
    "X.head(20)"
   ]
  },
  {
   "cell_type": "code",
   "execution_count": 17,
   "id": "5dc6719f",
   "metadata": {},
   "outputs": [],
   "source": [
    "from nltk.corpus import stopwords\n",
    "\n",
    "stop_words = stopwords.words('english')\n",
    "X['text'] = X['text'].apply(lambda x: ' '.join([word for word in x.split() if word not in (stop_words)]))\n",
    "t['text'] = t['text'].apply(lambda x: ' '.join([word for word in x.split() if word not in (stop_words)]))"
   ]
  },
  {
   "cell_type": "code",
   "execution_count": 18,
   "id": "aacd6b31",
   "metadata": {},
   "outputs": [
    {
     "data": {
      "text/html": [
       "<div>\n",
       "<style scoped>\n",
       "    .dataframe tbody tr th:only-of-type {\n",
       "        vertical-align: middle;\n",
       "    }\n",
       "\n",
       "    .dataframe tbody tr th {\n",
       "        vertical-align: top;\n",
       "    }\n",
       "\n",
       "    .dataframe thead th {\n",
       "        text-align: right;\n",
       "    }\n",
       "</style>\n",
       "<table border=\"1\" class=\"dataframe\">\n",
       "  <thead>\n",
       "    <tr style=\"text-align: right;\">\n",
       "      <th></th>\n",
       "      <th>id</th>\n",
       "      <th>keyword</th>\n",
       "      <th>location</th>\n",
       "      <th>text</th>\n",
       "    </tr>\n",
       "  </thead>\n",
       "  <tbody>\n",
       "    <tr>\n",
       "      <th>0</th>\n",
       "      <td>0</td>\n",
       "      <td>nan</td>\n",
       "      <td>NaN</td>\n",
       "      <td>happened terrible car crash</td>\n",
       "    </tr>\n",
       "    <tr>\n",
       "      <th>1</th>\n",
       "      <td>2</td>\n",
       "      <td>nan</td>\n",
       "      <td>NaN</td>\n",
       "      <td>heard earthquake different cities stay safe ev...</td>\n",
       "    </tr>\n",
       "    <tr>\n",
       "      <th>2</th>\n",
       "      <td>3</td>\n",
       "      <td>nan</td>\n",
       "      <td>NaN</td>\n",
       "      <td>forest fire spot pond geese fleeing across str...</td>\n",
       "    </tr>\n",
       "    <tr>\n",
       "      <th>3</th>\n",
       "      <td>9</td>\n",
       "      <td>nan</td>\n",
       "      <td>NaN</td>\n",
       "      <td>apocalypse lighting spokane wildfires</td>\n",
       "    </tr>\n",
       "    <tr>\n",
       "      <th>4</th>\n",
       "      <td>11</td>\n",
       "      <td>nan</td>\n",
       "      <td>NaN</td>\n",
       "      <td>typhoon soudelor kills 28 china taiwan</td>\n",
       "    </tr>\n",
       "    <tr>\n",
       "      <th>5</th>\n",
       "      <td>12</td>\n",
       "      <td>nan</td>\n",
       "      <td>NaN</td>\n",
       "      <td>shakingits earthquake</td>\n",
       "    </tr>\n",
       "    <tr>\n",
       "      <th>6</th>\n",
       "      <td>21</td>\n",
       "      <td>nan</td>\n",
       "      <td>NaN</td>\n",
       "      <td>theyd probably still show life arsenal yesterd...</td>\n",
       "    </tr>\n",
       "    <tr>\n",
       "      <th>7</th>\n",
       "      <td>22</td>\n",
       "      <td>nan</td>\n",
       "      <td>NaN</td>\n",
       "      <td>hey</td>\n",
       "    </tr>\n",
       "    <tr>\n",
       "      <th>8</th>\n",
       "      <td>27</td>\n",
       "      <td>nan</td>\n",
       "      <td>NaN</td>\n",
       "      <td>nice hat</td>\n",
       "    </tr>\n",
       "    <tr>\n",
       "      <th>9</th>\n",
       "      <td>29</td>\n",
       "      <td>nan</td>\n",
       "      <td>NaN</td>\n",
       "      <td>fuck</td>\n",
       "    </tr>\n",
       "    <tr>\n",
       "      <th>10</th>\n",
       "      <td>30</td>\n",
       "      <td>nan</td>\n",
       "      <td>NaN</td>\n",
       "      <td>dont like cold</td>\n",
       "    </tr>\n",
       "    <tr>\n",
       "      <th>11</th>\n",
       "      <td>35</td>\n",
       "      <td>nan</td>\n",
       "      <td>NaN</td>\n",
       "      <td>nooooooooo dont</td>\n",
       "    </tr>\n",
       "    <tr>\n",
       "      <th>12</th>\n",
       "      <td>42</td>\n",
       "      <td>nan</td>\n",
       "      <td>NaN</td>\n",
       "      <td>dont tell</td>\n",
       "    </tr>\n",
       "    <tr>\n",
       "      <th>13</th>\n",
       "      <td>43</td>\n",
       "      <td>nan</td>\n",
       "      <td>NaN</td>\n",
       "      <td></td>\n",
       "    </tr>\n",
       "    <tr>\n",
       "      <th>14</th>\n",
       "      <td>45</td>\n",
       "      <td>nan</td>\n",
       "      <td>NaN</td>\n",
       "      <td>awesome</td>\n",
       "    </tr>\n",
       "    <tr>\n",
       "      <th>15</th>\n",
       "      <td>46</td>\n",
       "      <td>ablaze</td>\n",
       "      <td>london</td>\n",
       "      <td>birmingham wholesale market ablaze bbc news fi...</td>\n",
       "    </tr>\n",
       "    <tr>\n",
       "      <th>16</th>\n",
       "      <td>47</td>\n",
       "      <td>ablaze</td>\n",
       "      <td>niall's place | saf 12 squad |</td>\n",
       "      <td>wear shorts race ablaze</td>\n",
       "    </tr>\n",
       "    <tr>\n",
       "      <th>17</th>\n",
       "      <td>51</td>\n",
       "      <td>ablaze</td>\n",
       "      <td>nigeria</td>\n",
       "      <td>previouslyondoyintv toke makinwaûªs marriage ...</td>\n",
       "    </tr>\n",
       "    <tr>\n",
       "      <th>18</th>\n",
       "      <td>58</td>\n",
       "      <td>ablaze</td>\n",
       "      <td>live on webcam</td>\n",
       "      <td>check nsfw</td>\n",
       "    </tr>\n",
       "    <tr>\n",
       "      <th>19</th>\n",
       "      <td>60</td>\n",
       "      <td>ablaze</td>\n",
       "      <td>los angeles, califnordia</td>\n",
       "      <td>psa iûªm splitting personalities techies foll...</td>\n",
       "    </tr>\n",
       "  </tbody>\n",
       "</table>\n",
       "</div>"
      ],
      "text/plain": [
       "    id keyword                        location  \\\n",
       "0    0     nan                             NaN   \n",
       "1    2     nan                             NaN   \n",
       "2    3     nan                             NaN   \n",
       "3    9     nan                             NaN   \n",
       "4   11     nan                             NaN   \n",
       "5   12     nan                             NaN   \n",
       "6   21     nan                             NaN   \n",
       "7   22     nan                             NaN   \n",
       "8   27     nan                             NaN   \n",
       "9   29     nan                             NaN   \n",
       "10  30     nan                             NaN   \n",
       "11  35     nan                             NaN   \n",
       "12  42     nan                             NaN   \n",
       "13  43     nan                             NaN   \n",
       "14  45     nan                             NaN   \n",
       "15  46  ablaze                          london   \n",
       "16  47  ablaze  niall's place | saf 12 squad |   \n",
       "17  51  ablaze                         nigeria   \n",
       "18  58  ablaze                  live on webcam   \n",
       "19  60  ablaze        los angeles, califnordia   \n",
       "\n",
       "                                                 text  \n",
       "0                         happened terrible car crash  \n",
       "1   heard earthquake different cities stay safe ev...  \n",
       "2   forest fire spot pond geese fleeing across str...  \n",
       "3               apocalypse lighting spokane wildfires  \n",
       "4              typhoon soudelor kills 28 china taiwan  \n",
       "5                               shakingits earthquake  \n",
       "6   theyd probably still show life arsenal yesterd...  \n",
       "7                                                 hey  \n",
       "8                                            nice hat  \n",
       "9                                                fuck  \n",
       "10                                     dont like cold  \n",
       "11                                    nooooooooo dont  \n",
       "12                                          dont tell  \n",
       "13                                                     \n",
       "14                                            awesome  \n",
       "15  birmingham wholesale market ablaze bbc news fi...  \n",
       "16                            wear shorts race ablaze  \n",
       "17  previouslyondoyintv toke makinwaûªs marriage ...  \n",
       "18                                         check nsfw  \n",
       "19  psa iûªm splitting personalities techies foll...  "
      ]
     },
     "execution_count": 18,
     "metadata": {},
     "output_type": "execute_result"
    }
   ],
   "source": [
    "t.head(20)"
   ]
  },
  {
   "cell_type": "code",
   "execution_count": 19,
   "id": "0fd10e31",
   "metadata": {},
   "outputs": [],
   "source": [
    "X['text'] = X.apply(lambda row: nltk.word_tokenize(row['text']), axis=1)\n",
    "t['text'] = t.apply(lambda row: nltk.word_tokenize(row['text']), axis=1)"
   ]
  },
  {
   "cell_type": "code",
   "execution_count": 20,
   "id": "893b1017",
   "metadata": {},
   "outputs": [
    {
     "data": {
      "text/html": [
       "<div>\n",
       "<style scoped>\n",
       "    .dataframe tbody tr th:only-of-type {\n",
       "        vertical-align: middle;\n",
       "    }\n",
       "\n",
       "    .dataframe tbody tr th {\n",
       "        vertical-align: top;\n",
       "    }\n",
       "\n",
       "    .dataframe thead th {\n",
       "        text-align: right;\n",
       "    }\n",
       "</style>\n",
       "<table border=\"1\" class=\"dataframe\">\n",
       "  <thead>\n",
       "    <tr style=\"text-align: right;\">\n",
       "      <th></th>\n",
       "      <th>id</th>\n",
       "      <th>keyword</th>\n",
       "      <th>location</th>\n",
       "      <th>text</th>\n",
       "    </tr>\n",
       "  </thead>\n",
       "  <tbody>\n",
       "    <tr>\n",
       "      <th>0</th>\n",
       "      <td>0</td>\n",
       "      <td>nan</td>\n",
       "      <td>NaN</td>\n",
       "      <td>[happened, terrible, car, crash]</td>\n",
       "    </tr>\n",
       "    <tr>\n",
       "      <th>1</th>\n",
       "      <td>2</td>\n",
       "      <td>nan</td>\n",
       "      <td>NaN</td>\n",
       "      <td>[heard, earthquake, different, cities, stay, s...</td>\n",
       "    </tr>\n",
       "    <tr>\n",
       "      <th>2</th>\n",
       "      <td>3</td>\n",
       "      <td>nan</td>\n",
       "      <td>NaN</td>\n",
       "      <td>[forest, fire, spot, pond, geese, fleeing, acr...</td>\n",
       "    </tr>\n",
       "    <tr>\n",
       "      <th>3</th>\n",
       "      <td>9</td>\n",
       "      <td>nan</td>\n",
       "      <td>NaN</td>\n",
       "      <td>[apocalypse, lighting, spokane, wildfires]</td>\n",
       "    </tr>\n",
       "    <tr>\n",
       "      <th>4</th>\n",
       "      <td>11</td>\n",
       "      <td>nan</td>\n",
       "      <td>NaN</td>\n",
       "      <td>[typhoon, soudelor, kills, 28, china, taiwan]</td>\n",
       "    </tr>\n",
       "  </tbody>\n",
       "</table>\n",
       "</div>"
      ],
      "text/plain": [
       "   id keyword location                                               text\n",
       "0   0     nan      NaN                   [happened, terrible, car, crash]\n",
       "1   2     nan      NaN  [heard, earthquake, different, cities, stay, s...\n",
       "2   3     nan      NaN  [forest, fire, spot, pond, geese, fleeing, acr...\n",
       "3   9     nan      NaN         [apocalypse, lighting, spokane, wildfires]\n",
       "4  11     nan      NaN      [typhoon, soudelor, kills, 28, china, taiwan]"
      ]
     },
     "execution_count": 20,
     "metadata": {},
     "output_type": "execute_result"
    }
   ],
   "source": [
    "t.head()"
   ]
  },
  {
   "cell_type": "markdown",
   "id": "15313673",
   "metadata": {},
   "source": [
    "### Splitting Training and Dev sets"
   ]
  },
  {
   "cell_type": "code",
   "execution_count": 21,
   "id": "61526b7c",
   "metadata": {},
   "outputs": [],
   "source": [
    "X_train, X_dev, y_train, y_dev = train_test_split(X, y_train, test_size=0.33, random_state=42)"
   ]
  },
  {
   "cell_type": "markdown",
   "id": "14cc2a87",
   "metadata": {},
   "source": [
    "# Bag of Words Model "
   ]
  },
  {
   "cell_type": "code",
   "execution_count": 22,
   "id": "b799e4c2",
   "metadata": {
    "scrolled": true
   },
   "outputs": [
    {
     "data": {
      "image/png": "[encoded data removed]",
      "text/plain": [
       "<Figure size 432x288 with 1 Axes>"
      ]
     },
     "metadata": {
      "needs_background": "light"
     },
     "output_type": "display_data"
    }
   ],
   "source": [
    "def dummy(doc):\n",
    "    return doc\n",
    "\n",
    "data = []\n",
    "for i in range(1,15):\n",
    "    cVect= CountVectorizer(min_df=i, binary=True, tokenizer=dummy, preprocessor=dummy)\n",
    "    tFit = cVect.fit_transform(X_train['text'])\n",
    "    data.append(tFit.shape[1])\n",
    "    \n",
    "plt.scatter(list(range(1,15)), data)\n",
    "plt.xlabel('min_df')\n",
    "plt.ylabel('No. of features')\n",
    "plt.show()"
   ]
  },
  {
   "cell_type": "markdown",
   "id": "c41c4c78",
   "metadata": {},
   "source": [
    "Taking min_df to be 6 since the elbow seems to occur at that point, which should be a good compromise between maintaining sensitivity to keywords while reducing the feature space appreciably."
   ]
  },
  {
   "cell_type": "code",
   "execution_count": 23,
   "id": "69c92e37",
   "metadata": {},
   "outputs": [],
   "source": [
    "cv = CountVectorizer(min_df=6, binary=True, tokenizer=dummy, preprocessor=dummy)  "
   ]
  },
  {
   "cell_type": "code",
   "execution_count": 24,
   "id": "06b1a378",
   "metadata": {},
   "outputs": [],
   "source": [
    "X_train_cv = cv.fit_transform(X_train['text'])"
   ]
  },
  {
   "cell_type": "code",
   "execution_count": 25,
   "id": "243a223c",
   "metadata": {},
   "outputs": [
    {
     "data": {
      "text/plain": [
       "{'photo': 1056,\n",
       " 'around': 123,\n",
       " 'rubble': 1191,\n",
       " 'end': 475,\n",
       " 'man': 879,\n",
       " 'crush': 359,\n",
       " 'everyday': 496,\n",
       " 'yes': 1611,\n",
       " 'feel': 542,\n",
       " 'root': 1186,\n",
       " 'shame': 1263,\n",
       " 'found': 580,\n",
       " 'trauma': 1452,\n",
       " 'everyone': 497,\n",
       " 'would': 1595,\n",
       " 'join': 785,\n",
       " 'isis': 768,\n",
       " 'get': 612,\n",
       " 'trying': 1470,\n",
       " 'detonate': 408,\n",
       " 'hot': 718,\n",
       " 'dogs': 428,\n",
       " 'fort': 579,\n",
       " 'potus': 1088,\n",
       " 'strategy': 1353,\n",
       " 'genocide': 609,\n",
       " 'refugees': 1144,\n",
       " 'internally': 758,\n",
       " 'displaced': 424,\n",
       " 'people': 1049,\n",
       " 'horror': 713,\n",
       " 'etc': 487,\n",
       " 'stream': 1354,\n",
       " 'hurricane': 728,\n",
       " 'reddits': 1143,\n",
       " 'new': 977,\n",
       " 'content': 331,\n",
       " 'policy': 1079,\n",
       " 'goes': 627,\n",
       " 'effect': 465,\n",
       " 'many': 882,\n",
       " 'horrible': 712,\n",
       " 'subreddits': 1365,\n",
       " 'banned': 159,\n",
       " 'quarantined': 1112,\n",
       " 'god': 625,\n",
       " 'right': 1171,\n",
       " 'love': 865,\n",
       " 'obliterated': 998,\n",
       " 'ball': 156,\n",
       " 'fuck': 590,\n",
       " 'box': 219,\n",
       " 'flames': 560,\n",
       " 'upon': 1495,\n",
       " 'bioterrorism': 186,\n",
       " '2': 19,\n",
       " '4': 33,\n",
       " 'ends': 477,\n",
       " 'mass': 887,\n",
       " 'murder': 955,\n",
       " 'loud': 863,\n",
       " 'ass': 133,\n",
       " 'thunder': 1421,\n",
       " 'wanted': 1533,\n",
       " 'bomb': 210,\n",
       " 'blood': 202,\n",
       " 'pressure': 1098,\n",
       " 'dont': 430,\n",
       " 'need': 973,\n",
       " 'shit': 1270,\n",
       " 'reddit': 1142,\n",
       " 'quarantine': 1111,\n",
       " 'offensive': 1001,\n",
       " 'ceo': 284,\n",
       " 'close': 303,\n",
       " 'making': 877,\n",
       " 'money': 937,\n",
       " '50': 38,\n",
       " 'bloody': 203,\n",
       " 'hate': 672,\n",
       " 'weapon': 1547,\n",
       " 'force': 573,\n",
       " 'change': 286,\n",
       " 'says': 1217,\n",
       " 'fall': 518,\n",
       " 'like': 836,\n",
       " 'wild': 1568,\n",
       " 'fires': 556,\n",
       " 'wan': 1531,\n",
       " 'na': 962,\n",
       " 'mini': 925,\n",
       " 'heat': 683,\n",
       " 'wave': 1543,\n",
       " 'pick': 1059,\n",
       " 'ground': 641,\n",
       " 'drowned': 446,\n",
       " 'hit': 705,\n",
       " 'hard': 668,\n",
       " 'twice': 1479,\n",
       " 'time': 1425,\n",
       " 'different': 417,\n",
       " '10': 2,\n",
       " 'twister': 1480,\n",
       " 'wont': 1583,\n",
       " 'running': 1196,\n",
       " 'post': 1085,\n",
       " 'pic': 1058,\n",
       " '16yr': 13,\n",
       " 'old': 1012,\n",
       " 'pkk': 1063,\n",
       " 'suicide': 1367,\n",
       " 'bomber': 212,\n",
       " 'detonated': 409,\n",
       " 'turkey': 1472,\n",
       " 'army': 122,\n",
       " 'trench': 1457,\n",
       " 'released': 1149,\n",
       " 'much': 952,\n",
       " 'going': 628,\n",
       " 'head': 677,\n",
       " 'id': 733,\n",
       " 'rather': 1126,\n",
       " 'talk': 1390,\n",
       " 'latest': 814,\n",
       " 'homes': 710,\n",
       " 'razed': 1127,\n",
       " 'northern': 986,\n",
       " 'california': 251,\n",
       " 'wildfire': 1569,\n",
       " 'abc': 53,\n",
       " 'news': 978,\n",
       " 'guy': 653,\n",
       " 'bought': 218,\n",
       " 'car': 264,\n",
       " 'police': 1078,\n",
       " 'door': 431,\n",
       " 'crashed': 350,\n",
       " 'n': 961,\n",
       " 'amp': 99,\n",
       " 'text': 1404,\n",
       " 'send': 1246,\n",
       " 'book': 216,\n",
       " 'electrocute': 468,\n",
       " 'fatalities': 532,\n",
       " 'migrant': 916,\n",
       " 'boat': 207,\n",
       " 'capsizes': 262,\n",
       " 'med': 896,\n",
       " 'hundreds': 726,\n",
       " '\\x89û': 1622,\n",
       " 'fan': 524,\n",
       " 'sorry': 1316,\n",
       " 'world': 1588,\n",
       " 'blight': 196,\n",
       " 'lot': 861,\n",
       " 'soul': 1318,\n",
       " 'searching': 1228,\n",
       " 'officer': 1003,\n",
       " 'wounded': 1596,\n",
       " 'suspect': 1379,\n",
       " 'dead': 381,\n",
       " 'shots': 1274,\n",
       " '\\x89ûó': 1626,\n",
       " 'doesnt': 426,\n",
       " 'let': 826,\n",
       " 'go': 624,\n",
       " 'uses': 1501,\n",
       " 'seismic': 1243,\n",
       " 'hijack': 698,\n",
       " 'buses': 241,\n",
       " 'arrested': 124,\n",
       " 'enugu': 482,\n",
       " 'according': 59,\n",
       " 'nigerian': 981,\n",
       " 'via': 1511,\n",
       " 'russia': 1199,\n",
       " 'food': 571,\n",
       " 'crematoria': 354,\n",
       " 'provoke': 1107,\n",
       " 'outrage': 1022,\n",
       " 'country': 342,\n",
       " 'famine': 523,\n",
       " 'could': 341,\n",
       " 'anyone': 110,\n",
       " 'tell': 1396,\n",
       " 'taking': 1389,\n",
       " 'long': 853,\n",
       " 'please': 1074,\n",
       " 'better': 179,\n",
       " 'think': 1413,\n",
       " 'anything': 111,\n",
       " 'done': 429,\n",
       " 'hour': 719,\n",
       " 'class': 300,\n",
       " 'bombed': 211,\n",
       " 'pandemonium': 1031,\n",
       " 'aba': 51,\n",
       " 'woman': 1579,\n",
       " 'delivers': 390,\n",
       " 'baby': 150,\n",
       " 'without': 1577,\n",
       " 'face': 514,\n",
       " 'photos': 1057,\n",
       " 'wow': 1598,\n",
       " 'lies': 832,\n",
       " 'within': 1576,\n",
       " 'every': 495,\n",
       " 'storm': 1350,\n",
       " 'taken': 1387,\n",
       " 'today': 1428,\n",
       " 'rainstorm': 1123,\n",
       " 'entire': 481,\n",
       " 'community': 322,\n",
       " 'destroy': 403,\n",
       " 'industry': 745,\n",
       " 'drop': 442,\n",
       " '31': 30,\n",
       " 'md': 893,\n",
       " 'ave': 145,\n",
       " 'silver': 1287,\n",
       " 'spring': 1330,\n",
       " 'low': 867,\n",
       " 'due': 451,\n",
       " 'dust': 452,\n",
       " 'east': 458,\n",
       " 'bridge': 225,\n",
       " 'following': 570,\n",
       " 'sunk': 1371,\n",
       " 'cost': 338,\n",
       " 'still': 1345,\n",
       " 'went': 1558,\n",
       " 'collapsed': 311,\n",
       " 'front': 589,\n",
       " 'broke': 228,\n",
       " 'city': 298,\n",
       " 'girl': 616,\n",
       " 'mountain': 946,\n",
       " 'snowstorm': 1305,\n",
       " 'sister': 1295,\n",
       " 'rt': 1189,\n",
       " 'video': 1514,\n",
       " 'coming': 319,\n",
       " 'us': 1497,\n",
       " 'earthquake': 457,\n",
       " 'tsunami': 1471,\n",
       " 'finally': 549,\n",
       " 'demolished': 394,\n",
       " '2013': 22,\n",
       " 'property': 1106,\n",
       " 'since': 1288,\n",
       " 'name': 965,\n",
       " 'back': 151,\n",
       " 'derailed': 399,\n",
       " 'thinking': 1414,\n",
       " 'crazy': 351,\n",
       " 'im': 738,\n",
       " 'trapped': 1451,\n",
       " 'inside': 752,\n",
       " 'murderer': 956,\n",
       " 'meltdown': 902,\n",
       " 'ever': 494,\n",
       " 'seen': 1241,\n",
       " 'control': 332,\n",
       " 'tho': 1415,\n",
       " 'gtgt': 646,\n",
       " 'lightning': 835,\n",
       " '5': 37,\n",
       " '6': 41,\n",
       " 'phone': 1055,\n",
       " 'holding': 707,\n",
       " 'electrocuted': 469,\n",
       " 'hand': 660,\n",
       " 'bad': 152,\n",
       " 'ambulance': 95,\n",
       " 'automatic': 143,\n",
       " 'vehicle': 1509,\n",
       " 'choice': 296,\n",
       " '14': 10,\n",
       " 'ebay': 461,\n",
       " 'drought': 444,\n",
       " 'everything': 498,\n",
       " 'comes': 318,\n",
       " 'ready': 1132,\n",
       " 'explode': 504,\n",
       " 'refugio': 1145,\n",
       " 'oil': 1009,\n",
       " 'spill': 1326,\n",
       " 'may': 890,\n",
       " 'costlier': 339,\n",
       " 'bigger': 182,\n",
       " 'projected': 1105,\n",
       " 'school': 1220,\n",
       " 'year': 1609,\n",
       " 'burning': 238,\n",
       " 'buildings': 236,\n",
       " 'feed': 541,\n",
       " 'seems': 1240,\n",
       " 'deluge': 391,\n",
       " 'week': 1553,\n",
       " 'never': 976,\n",
       " 'thought': 1417,\n",
       " 'wtf': 1604,\n",
       " 'moment': 936,\n",
       " 'yet': 1612,\n",
       " 'months': 939,\n",
       " '90': 49,\n",
       " 'next': 979,\n",
       " 'flash': 561,\n",
       " 'floods': 567,\n",
       " 'b': 149,\n",
       " 'x': 1606,\n",
       " 'chance': 285,\n",
       " 'nothing': 988,\n",
       " 'seeks': 1239,\n",
       " '70': 45,\n",
       " 'years': 1610,\n",
       " 'atomic': 135,\n",
       " 'bombs': 215,\n",
       " 'japan': 780,\n",
       " 'struggles': 1361,\n",
       " 'war': 1535,\n",
       " 'past': 1042,\n",
       " 'anniversary': 104,\n",
       " 'devastation': 412,\n",
       " 'wrought': 1603,\n",
       " '3': 28,\n",
       " 'words': 1585,\n",
       " 'wrecked': 1601,\n",
       " 'stock': 1346,\n",
       " 'men': 905,\n",
       " 'escape': 486,\n",
       " 'engulfed': 479,\n",
       " 'parleys': 1036,\n",
       " 'canyon': 261,\n",
       " 'crews': 355,\n",
       " 'investigating': 762,\n",
       " 'cause': 276,\n",
       " 'island': 771,\n",
       " 'rd': 1128,\n",
       " 'really': 1134,\n",
       " 'blizzard': 197,\n",
       " 'leaving': 821,\n",
       " 'mudslide': 953,\n",
       " 'san': 1208,\n",
       " 'flight': 564,\n",
       " 'desolate': 401,\n",
       " 'state': 1342,\n",
       " 'real': 1133,\n",
       " 'twitter': 1481,\n",
       " 'prepare': 1095,\n",
       " '9': 48,\n",
       " 'special': 1324,\n",
       " 'ebola': 462,\n",
       " 'rain': 1121,\n",
       " 'power': 1089,\n",
       " 'cut': 365,\n",
       " 'obama': 996,\n",
       " 'yeah': 1608,\n",
       " 'worth': 1594,\n",
       " 'bc': 167,\n",
       " 'already': 90,\n",
       " 'probably': 1102,\n",
       " 'blown': 204,\n",
       " 'second': 1231,\n",
       " 'night': 984,\n",
       " 'lucky': 869,\n",
       " 'block': 199,\n",
       " 'apocalypse': 113,\n",
       " '20': 20,\n",
       " 'women': 1580,\n",
       " 'bags': 155,\n",
       " 'bag': 153,\n",
       " 'handbag': 661,\n",
       " 'cross': 358,\n",
       " 'body': 209,\n",
       " 'shoulder': 1275,\n",
       " 'ladies': 804,\n",
       " 'handbags': 662,\n",
       " 'high': 696,\n",
       " 'survived': 1377,\n",
       " 'ban': 157,\n",
       " 'game': 600,\n",
       " 'set': 1257,\n",
       " 'match': 889,\n",
       " 'release': 1148,\n",
       " 'hostages': 717,\n",
       " 'videos': 1515,\n",
       " 'needs': 974,\n",
       " 'someone': 1310,\n",
       " 'sinkhole': 1290,\n",
       " 'opens': 1017,\n",
       " 'brooklyn': 230,\n",
       " 'york': 1613,\n",
       " 'keep': 787,\n",
       " 'shape': 1264,\n",
       " 'amazon': 94,\n",
       " 'tree': 1455,\n",
       " 'stretcher': 1357,\n",
       " 'flooding': 566,\n",
       " 'florida': 568,\n",
       " '18': 15,\n",
       " '19': 16,\n",
       " 'days': 378,\n",
       " 'ive': 778,\n",
       " 'lost': 860,\n",
       " 'heres': 691,\n",
       " 'date': 376,\n",
       " 'totally': 1440,\n",
       " 'idea': 734,\n",
       " 'means': 895,\n",
       " 'look': 855,\n",
       " 'violent': 1519,\n",
       " 'crime': 356,\n",
       " 'rate': 1125,\n",
       " 'weapons': 1548,\n",
       " 'guns': 652,\n",
       " 'become': 171,\n",
       " 'australia': 142,\n",
       " '\\x89ûï': 1623,\n",
       " 'emergency': 472,\n",
       " 'action': 63,\n",
       " 'plan': 1065,\n",
       " 'trump': 1466,\n",
       " 'structural': 1360,\n",
       " 'government': 636,\n",
       " 'failure': 517,\n",
       " 'listen': 844,\n",
       " 'landslide': 809,\n",
       " 'oh': 1008,\n",
       " 'wonder': 1582,\n",
       " 'apply': 117,\n",
       " 'damn': 371,\n",
       " 'tried': 1460,\n",
       " 'see': 1236,\n",
       " 'blew': 195,\n",
       " 'thats': 1407,\n",
       " 'played': 1070,\n",
       " 'salt': 1207,\n",
       " 'wounds': 1597,\n",
       " 'dad': 367,\n",
       " 'first': 557,\n",
       " 'level': 828,\n",
       " 'hostage': 716,\n",
       " 'hours': 720,\n",
       " 'evacuation': 490,\n",
       " 'order': 1018,\n",
       " 'roosevelt': 1185,\n",
       " 'town': 1442,\n",
       " 'one': 1014,\n",
       " 'nuclear': 990,\n",
       " 'reactor': 1129,\n",
       " 'nearly': 972,\n",
       " 'double': 432,\n",
       " 'blaze': 192,\n",
       " 'madhya': 872,\n",
       " 'pradesh': 1092,\n",
       " 'train': 1446,\n",
       " 'derailment': 400,\n",
       " 'village': 1518,\n",
       " 'youth': 1617,\n",
       " 'saved': 1213,\n",
       " 'lives': 848,\n",
       " 'fire': 553,\n",
       " 'cake': 249,\n",
       " 'looks': 857,\n",
       " 'terrorism': 1400,\n",
       " 'story': 1351,\n",
       " 'maybe': 891,\n",
       " 'bombing': 213,\n",
       " 'theres': 1409,\n",
       " 'alarm': 83,\n",
       " 'working': 1587,\n",
       " 'minutes': 928,\n",
       " 'evacuate': 488,\n",
       " 'waiting': 1526,\n",
       " 'winds': 1573,\n",
       " 'siren': 1292,\n",
       " 'gone': 631,\n",
       " 'leave': 820,\n",
       " 'else': 470,\n",
       " 'wants': 1534,\n",
       " 'radiation': 1118,\n",
       " '24': 25,\n",
       " 'giant': 615,\n",
       " 'brown': 232,\n",
       " 'families': 521,\n",
       " 'sue': 1366,\n",
       " 'legionnaires': 824,\n",
       " '40': 34,\n",
       " 'affected': 67,\n",
       " 'fatal': 531,\n",
       " 'outbreak': 1021,\n",
       " 'disease': 422,\n",
       " 'black': 190,\n",
       " 'eye': 510,\n",
       " 'space': 1322,\n",
       " 'battle': 163,\n",
       " 'occurred': 1000,\n",
       " 'star': 1337,\n",
       " 'o784': 995,\n",
       " 'involving': 764,\n",
       " 'fleets': 563,\n",
       " 'totaling': 1439,\n",
       " 'ships': 1269,\n",
       " 'destroyed': 404,\n",
       " 'stop': 1347,\n",
       " 'responders': 1163,\n",
       " 'free': 584,\n",
       " 'details': 407,\n",
       " 'co': 306,\n",
       " 'happy': 667,\n",
       " 'got': 634,\n",
       " 'tracks': 1443,\n",
       " 'caused': 277,\n",
       " 'hailstorm': 657,\n",
       " 'day': 377,\n",
       " 'yyc': 1620,\n",
       " 'collision': 314,\n",
       " 'hwy': 729,\n",
       " '8': 47,\n",
       " 'single': 1289,\n",
       " 'left': 823,\n",
       " 'little': 846,\n",
       " 'forest': 575,\n",
       " 'take': 1386,\n",
       " 'anymore': 109,\n",
       " 'emotional': 474,\n",
       " 'wreck': 1599,\n",
       " 'watching': 1541,\n",
       " 'imagine': 740,\n",
       " 'fighting': 547,\n",
       " 'heart': 682,\n",
       " 'cant': 260,\n",
       " 'watch': 1539,\n",
       " 'sad': 1202,\n",
       " 'collided': 313,\n",
       " 'another': 105,\n",
       " 'nowplaying': 989,\n",
       " 'strike': 1358,\n",
       " 'de': 380,\n",
       " 'snow': 1304,\n",
       " 'million': 920,\n",
       " 'severe': 1259,\n",
       " 'thunderstorm': 1422,\n",
       " 'warning': 1536,\n",
       " 'ar': 118,\n",
       " 'pm': 1076,\n",
       " 'cdt': 280,\n",
       " 'morning': 941,\n",
       " 'two': 1482,\n",
       " 'amazing': 93,\n",
       " 'memories': 904,\n",
       " 'tears': 1394,\n",
       " 'rescued': 1159,\n",
       " 'migrants': 917,\n",
       " 'arrive': 125,\n",
       " 'literally': 845,\n",
       " 'bed': 172,\n",
       " 'put': 1110,\n",
       " 'beach': 168,\n",
       " 'hijacking': 700,\n",
       " 'games': 601,\n",
       " 'stars': 1338,\n",
       " 'worlds': 1590,\n",
       " 'collide': 312,\n",
       " 'heavy': 684,\n",
       " 'sounds': 1320,\n",
       " 'song': 1314,\n",
       " 'hear': 680,\n",
       " 'movie': 948,\n",
       " 'walking': 1529,\n",
       " 'away': 147,\n",
       " 'cars': 268,\n",
       " 'national': 966,\n",
       " 'grows': 644,\n",
       " 'aint': 76,\n",
       " 'well': 1557,\n",
       " 'ahead': 74,\n",
       " 'best': 178,\n",
       " 'shot': 1273,\n",
       " 'crash': 349,\n",
       " 'spot': 1329,\n",
       " 'flood': 565,\n",
       " 'combo': 316,\n",
       " 'cree': 353,\n",
       " 'led': 822,\n",
       " 'work': 1586,\n",
       " 'light': 834,\n",
       " 'bar': 160,\n",
       " 'offroad': 1007,\n",
       " 'lamp': 806,\n",
       " 'full': 593,\n",
       " 're\\x89û': 1170,\n",
       " '\\x89ûò': 1625,\n",
       " 'death': 383,\n",
       " 'businesses': 244,\n",
       " 'deluged': 392,\n",
       " 'make': 875,\n",
       " 'stand': 1335,\n",
       " 'likely': 838,\n",
       " 'rise': 1175,\n",
       " 'top': 1436,\n",
       " 'pay': 1046,\n",
       " 'funtenna': 597,\n",
       " 'computers': 326,\n",
       " 'data': 375,\n",
       " 'sound': 1319,\n",
       " 'waves': 1544,\n",
       " 'hat': 671,\n",
       " '2015': 24,\n",
       " 'prebreak': 1094,\n",
       " 'military': 919,\n",
       " 'watched': 1540,\n",
       " 'part': 1038,\n",
       " 'died': 415,\n",
       " 'perfect': 1051,\n",
       " 'survivors': 1378,\n",
       " 'know': 799,\n",
       " 'want': 1532,\n",
       " 'cliff': 301,\n",
       " 'life': 833,\n",
       " 'keeps': 788,\n",
       " 'actions': 64,\n",
       " 'upheaval': 1494,\n",
       " 'gas': 602,\n",
       " '100': 3,\n",
       " 'music': 957,\n",
       " 'debris': 386,\n",
       " 'mh370': 910,\n",
       " 'reunion': 1167,\n",
       " 'glass': 621,\n",
       " 'screen': 1225,\n",
       " 'film': 548,\n",
       " 'read': 1130,\n",
       " 'hold': 706,\n",
       " 'remains': 1151,\n",
       " '2nd': 27,\n",
       " 'st': 1332,\n",
       " 'manchester': 880,\n",
       " 'big': 181,\n",
       " 'football': 572,\n",
       " 'media': 897,\n",
       " 'cyclone': 366,\n",
       " 'ancient': 100,\n",
       " 'tablet': 1384,\n",
       " 'king': 796,\n",
       " 'aftershock': 71,\n",
       " 'ship': 1268,\n",
       " 'desolation': 402,\n",
       " 'smaug': 1302,\n",
       " 'german': 610,\n",
       " 'causing': 279,\n",
       " 'sky': 1299,\n",
       " 'powerful': 1090,\n",
       " 'drunk': 448,\n",
       " 'driving': 441,\n",
       " 'search': 1227,\n",
       " 'attacked': 137,\n",
       " 'total': 1438,\n",
       " 'run': 1195,\n",
       " 'attack': 136,\n",
       " 'india': 743,\n",
       " 'fatality': 533,\n",
       " 'uk': 1487,\n",
       " 'family': 522,\n",
       " 'planned': 1067,\n",
       " 'toddler': 1430,\n",
       " 'climate': 302,\n",
       " 'america': 96,\n",
       " 'held': 685,\n",
       " '11': 5,\n",
       " 'shouldnt': 1276,\n",
       " 'even': 491,\n",
       " 'complete': 324,\n",
       " 'zone': 1621,\n",
       " 'lava': 815,\n",
       " 'blast': 191,\n",
       " 'red': 1141,\n",
       " 'also': 91,\n",
       " 'sitting': 1298,\n",
       " 'event': 493,\n",
       " 'kills': 794,\n",
       " 'saudi': 1211,\n",
       " 'mosque': 943,\n",
       " 'started': 1340,\n",
       " 'terrorist': 1401,\n",
       " 'feeling': 543,\n",
       " 'quiz': 1116,\n",
       " 'service': 1255,\n",
       " 'destruction': 406,\n",
       " 'friends': 588,\n",
       " 'house': 721,\n",
       " 'true': 1465,\n",
       " 'bin': 184,\n",
       " 'laden': 803,\n",
       " 'afghanistan': 68,\n",
       " 'children': 292,\n",
       " 'panic': 1032,\n",
       " 'say': 1215,\n",
       " 'nice': 980,\n",
       " 'things': 1412,\n",
       " 'disaster': 419,\n",
       " 'jobs': 783,\n",
       " 'nah': 964,\n",
       " 'getting': 614,\n",
       " 'u': 1485,\n",
       " 'smoke': 1303,\n",
       " 'lmao': 850,\n",
       " 'scared': 1218,\n",
       " 'number': 991,\n",
       " 'makes': 876,\n",
       " 'sense': 1248,\n",
       " 'lol': 851,\n",
       " 'blog': 201,\n",
       " 'annihilated': 102,\n",
       " 'accident': 58,\n",
       " 'gon': 630,\n",
       " 'happen': 663,\n",
       " 'american': 97,\n",
       " 'fucking': 591,\n",
       " 'niggas': 983,\n",
       " 'w': 1524,\n",
       " 'screams': 1224,\n",
       " 'turkish': 1473,\n",
       " 'troops': 1462,\n",
       " 'killed': 791,\n",
       " 'ppl': 1091,\n",
       " 'agree': 73,\n",
       " 'israel': 773,\n",
       " 'kids': 789,\n",
       " 'natural': 967,\n",
       " 'everywhere': 499,\n",
       " 'f': 513,\n",
       " 'collapse': 310,\n",
       " 'todays': 1429,\n",
       " 'bioterror': 185,\n",
       " 'lab': 802,\n",
       " 'secret': 1233,\n",
       " 'remember': 1152,\n",
       " 'centre': 283,\n",
       " 'r': 1117,\n",
       " 'economic': 463,\n",
       " 'learn': 817,\n",
       " 'grow': 643,\n",
       " 'survive': 1376,\n",
       " 'must': 959,\n",
       " 'pass': 1040,\n",
       " 'lets': 827,\n",
       " 'something': 1311,\n",
       " 'beautiful': 170,\n",
       " 'hiroshima': 703,\n",
       " 'nagasaki': 963,\n",
       " 'using': 1503,\n",
       " 'twelve': 1478,\n",
       " 'feared': 537,\n",
       " 'pakistani': 1028,\n",
       " 'air': 77,\n",
       " 'helicopter': 686,\n",
       " 'worldnews': 1589,\n",
       " '25': 26,\n",
       " 'express': 508,\n",
       " 'derail': 398,\n",
       " 'picking': 1060,\n",
       " 'bodies': 208,\n",
       " 'water': 1542,\n",
       " 'rescuers': 1160,\n",
       " 'mediterranean': 899,\n",
       " 'governor': 637,\n",
       " 'parole': 1037,\n",
       " 'bus': 240,\n",
       " 'hijacker': 699,\n",
       " 'heard': 681,\n",
       " 'africa': 69,\n",
       " 'hazard': 675,\n",
       " 'associated': 134,\n",
       " 'tonight': 1433,\n",
       " 'prevent': 1100,\n",
       " 'rioting': 1173,\n",
       " 'business': 243,\n",
       " 'check': 289,\n",
       " 'science': 1221,\n",
       " 'libya': 830,\n",
       " 'pray': 1093,\n",
       " 'coast': 308,\n",
       " 'absolutely': 55,\n",
       " 'devastated': 411,\n",
       " 'miss': 930,\n",
       " 'girls': 617,\n",
       " 'boy': 220,\n",
       " 'poor': 1082,\n",
       " 'ben': 177,\n",
       " 'airport': 81,\n",
       " 'wait': 1525,\n",
       " 'ruin': 1192,\n",
       " 'called': 253,\n",
       " 'fear': 536,\n",
       " 'future': 598,\n",
       " 'humanity': 725,\n",
       " 'general': 608,\n",
       " 'drown': 445,\n",
       " 'live': 847,\n",
       " 'lt3': 868,\n",
       " 'angry': 101,\n",
       " 'relief': 1150,\n",
       " 'rescue': 1158,\n",
       " 'liked': 837,\n",
       " 'usa': 1498,\n",
       " 'e': 453,\n",
       " 'others': 1020,\n",
       " 'drink': 437,\n",
       " 'linked': 842,\n",
       " 'causes': 278,\n",
       " 'injury': 750,\n",
       " 'mode': 933,\n",
       " 'whole': 1565,\n",
       " 'dog': 427,\n",
       " 'dude': 450,\n",
       " 'antioch': 108,\n",
       " 'demolition': 395,\n",
       " 'lady': 805,\n",
       " 'alone': 88,\n",
       " 'shall': 1262,\n",
       " 'obliterate': 997,\n",
       " 'sometimes': 1312,\n",
       " 'tragedy': 1445,\n",
       " 'stage': 1334,\n",
       " 'texas': 1403,\n",
       " 'comment': 320,\n",
       " 'rules': 1194,\n",
       " 'changes': 287,\n",
       " 'windstorm': 1574,\n",
       " 'insurer': 755,\n",
       " 'seven': 1258,\n",
       " 'summer': 1368,\n",
       " 'three': 1420,\n",
       " 'israeli': 774,\n",
       " 'soldiers': 1307,\n",
       " 'west': 1559,\n",
       " 'almost': 87,\n",
       " 'image': 739,\n",
       " 'chinas': 295,\n",
       " 'market': 885,\n",
       " 'gems': 607,\n",
       " '5km': 40,\n",
       " 'volcano': 1522,\n",
       " 'hawaii': 674,\n",
       " 'download': 433,\n",
       " 'information': 747,\n",
       " 'near': 970,\n",
       " 'supposed': 1374,\n",
       " 'august': 141,\n",
       " 'daily': 368,\n",
       " 'result': 1165,\n",
       " 'sandstorm': 1209,\n",
       " 'swallowed': 1380,\n",
       " 'minute': 927,\n",
       " 'hope': 711,\n",
       " 'walk': 1528,\n",
       " 'outside': 1023,\n",
       " 'added': 66,\n",
       " 'playlist': 1073,\n",
       " 'disco': 420,\n",
       " 'official': 1005,\n",
       " 'burned': 237,\n",
       " 'fedex': 540,\n",
       " 'longer': 854,\n",
       " 'potential': 1087,\n",
       " 'pathogens': 1043,\n",
       " 'break': 223,\n",
       " 'thousands': 1418,\n",
       " 'ablaze': 54,\n",
       " 'destroys': 405,\n",
       " 'street': 1355,\n",
       " 'sea': 1226,\n",
       " 'piece': 1062,\n",
       " 'side': 1282,\n",
       " 'took': 1435,\n",
       " 'round': 1188,\n",
       " 'allows': 86,\n",
       " 'help': 689,\n",
       " 'youre': 1616,\n",
       " 'ok': 1010,\n",
       " 'way': 1546,\n",
       " 'bleeding': 194,\n",
       " 'catastrophic': 274,\n",
       " 'short': 1272,\n",
       " 'injuries': 749,\n",
       " 'sinking': 1291,\n",
       " 'home': 709,\n",
       " 'killer': 792,\n",
       " 'queen': 1113,\n",
       " 'students': 1362,\n",
       " 'stupid': 1364,\n",
       " 'center': 281,\n",
       " 'training': 1447,\n",
       " 'chemical': 290,\n",
       " 'response': 1164,\n",
       " 'lots': 862,\n",
       " 'road': 1180,\n",
       " 'direction': 418,\n",
       " 'album': 84,\n",
       " 'rly': 1178,\n",
       " 'mp': 950,\n",
       " 'recount': 1139,\n",
       " '\\x89ûïwhen': 1624,\n",
       " 'saw': 1214,\n",
       " 'coaches': 307,\n",
       " 'plunging': 1075,\n",
       " 'good': 632,\n",
       " 'play': 1069,\n",
       " 'along': 89,\n",
       " 'begin': 174,\n",
       " '1': 1,\n",
       " 'eyes': 511,\n",
       " 'ashes': 131,\n",
       " 'test': 1402,\n",
       " 'currently': 364,\n",
       " 'interesting': 757,\n",
       " 'saying': 1216,\n",
       " 'fans': 525,\n",
       " 'problem': 1103,\n",
       " 'em': 471,\n",
       " 'hey': 694,\n",
       " 'whirlwind': 1563,\n",
       " 'nigga': 982,\n",
       " 'damage': 369,\n",
       " 'great': 639,\n",
       " 'shooting': 1271,\n",
       " 'aug': 140,\n",
       " 'bbc': 166,\n",
       " 'harm': 669,\n",
       " 'sunday': 1370,\n",
       " 'thank': 1405,\n",
       " 'eyewitness': 512,\n",
       " 'child': 291,\n",
       " 'plane': 1066,\n",
       " 'missing': 931,\n",
       " 'aircraft': 78,\n",
       " 'guys': 654,\n",
       " 'eat': 460,\n",
       " 'ago': 72,\n",
       " 'dropped': 443,\n",
       " 'articles': 130,\n",
       " 'share': 1265,\n",
       " 'act': 62,\n",
       " 'save': 1212,\n",
       " 'self': 1244,\n",
       " 'coffee': 309,\n",
       " 'episode': 484,\n",
       " 'gun': 650,\n",
       " 'ignition': 735,\n",
       " 'knock': 798,\n",
       " 'detonation': 410,\n",
       " 'sensor': 1249,\n",
       " 'gm': 623,\n",
       " 'equipment': 485,\n",
       " 'less': 825,\n",
       " 'wind': 1572,\n",
       " '60': 42,\n",
       " 'mph': 951,\n",
       " 'hail': 656,\n",
       " 'river': 1177,\n",
       " 'till': 1424,\n",
       " 'issued': 776,\n",
       " '05': 0,\n",
       " 'nws': 992,\n",
       " 'call': 252,\n",
       " 'times': 1426,\n",
       " 'middle': 914,\n",
       " 'epicentre': 483,\n",
       " 'serious': 1254,\n",
       " 'funny': 596,\n",
       " 'traumatised': 1453,\n",
       " 'drive': 439,\n",
       " 'september': 1252,\n",
       " 'charged': 288,\n",
       " 'looking': 856,\n",
       " 'temple': 1397,\n",
       " 'massacre': 888,\n",
       " 'start': 1339,\n",
       " 'ur': 1496,\n",
       " 'fight': 546,\n",
       " 'trouble': 1463,\n",
       " 'crisis': 357,\n",
       " 'mad': 870,\n",
       " 'white': 1564,\n",
       " 'boys': 221,\n",
       " 'worst': 1593,\n",
       " 'flattened': 562,\n",
       " 'came': 254,\n",
       " 'flag': 559,\n",
       " 'find': 551,\n",
       " 'theyre': 1410,\n",
       " 'typhoon': 1483,\n",
       " 'soudelor': 1317,\n",
       " 'aim': 75,\n",
       " 'taiwan': 1385,\n",
       " '15': 11,\n",
       " 'security': 1235,\n",
       " 'site': 1297,\n",
       " ...}"
      ]
     },
     "execution_count": 25,
     "metadata": {},
     "output_type": "execute_result"
    }
   ],
   "source": [
    "cv.vocabulary_"
   ]
  },
  {
   "cell_type": "code",
   "execution_count": 26,
   "id": "1c2462c9",
   "metadata": {},
   "outputs": [],
   "source": [
    "cv_dev = CountVectorizer(binary=True, vocabulary=cv.get_feature_names(), tokenizer=dummy, preprocessor=dummy)\n",
    "X_dev_cv = cv_dev.fit_transform(X_dev['text'])"
   ]
  },
  {
   "cell_type": "markdown",
   "id": "72e064ab",
   "metadata": {},
   "source": [
    "# Logistic Regression"
   ]
  },
  {
   "cell_type": "markdown",
   "id": "1115ef2b",
   "metadata": {},
   "source": [
    "## No regularization"
   ]
  },
  {
   "cell_type": "markdown",
   "id": "79e001b5",
   "metadata": {},
   "source": [
    "### Training set"
   ]
  },
  {
   "cell_type": "code",
   "execution_count": 27,
   "id": "5064f8ce",
   "metadata": {},
   "outputs": [
    {
     "data": {
      "text/plain": [
       "LogisticRegression(max_iter=3600, penalty='none', solver='saga')"
      ]
     },
     "execution_count": 27,
     "metadata": {},
     "output_type": "execute_result"
    }
   ],
   "source": [
    "logreg_N = LogisticRegression(penalty='none', max_iter=3600, solver='saga')\n",
    "logreg_N.fit(X_train_cv, y_train)"
   ]
  },
  {
   "cell_type": "code",
   "execution_count": 28,
   "id": "2205426b",
   "metadata": {},
   "outputs": [
    {
     "name": "stdout",
     "output_type": "stream",
     "text": [
      "0.9221556886227544\n"
     ]
    }
   ],
   "source": [
    "preds_N_train = logreg_N.predict(X_train_cv)\n",
    "f1_N_train = f1_score(y_train, preds_N_train)\n",
    "print(f1_N_train)"
   ]
  },
  {
   "cell_type": "markdown",
   "id": "8e2ec0e4",
   "metadata": {},
   "source": [
    "### Dev set"
   ]
  },
  {
   "cell_type": "code",
   "execution_count": 29,
   "id": "cdf0e324",
   "metadata": {},
   "outputs": [
    {
     "name": "stdout",
     "output_type": "stream",
     "text": [
      "0.6929347826086957\n"
     ]
    }
   ],
   "source": [
    "preds_N_dev = logreg_N.predict(X_dev_cv)\n",
    "f1_N_dev = f1_score(y_dev, preds_N_dev)\n",
    "print(f1_N_dev)"
   ]
  },
  {
   "cell_type": "markdown",
   "id": "363d6f5f",
   "metadata": {},
   "source": [
    "This is a textbook example of overfitting, which should be remedied to some extent by regularization."
   ]
  },
  {
   "cell_type": "markdown",
   "id": "c940aa8b",
   "metadata": {},
   "source": [
    "## L1 regularization"
   ]
  },
  {
   "cell_type": "code",
   "execution_count": 30,
   "id": "393b1c45",
   "metadata": {},
   "outputs": [
    {
     "data": {
      "text/plain": [
       "LogisticRegression(max_iter=600, penalty='l1', solver='saga')"
      ]
     },
     "execution_count": 30,
     "metadata": {},
     "output_type": "execute_result"
    }
   ],
   "source": [
    "logreg_l1 = LogisticRegression(solver='saga', penalty='l1', max_iter=600)\n",
    "logreg_l1.fit(X_train_cv, y_train)"
   ]
  },
  {
   "cell_type": "markdown",
   "id": "cff8aeda",
   "metadata": {},
   "source": [
    "### Training set"
   ]
  },
  {
   "cell_type": "code",
   "execution_count": 31,
   "id": "6dccff07",
   "metadata": {},
   "outputs": [
    {
     "name": "stdout",
     "output_type": "stream",
     "text": [
      "0.8313840155945419\n"
     ]
    }
   ],
   "source": [
    "preds_l1_train = logreg_l1.predict(X_train_cv)\n",
    "f1_l1_train = f1_score(y_train, preds_l1_train)\n",
    "print(f1_l1_train)"
   ]
  },
  {
   "cell_type": "markdown",
   "id": "2b1e24d0",
   "metadata": {},
   "source": [
    "### Dev set"
   ]
  },
  {
   "cell_type": "code",
   "execution_count": 32,
   "id": "60ee9067",
   "metadata": {},
   "outputs": [
    {
     "name": "stdout",
     "output_type": "stream",
     "text": [
      "0.7342026078234702\n"
     ]
    }
   ],
   "source": [
    "preds_l1_dev = logreg_l1.predict(X_dev_cv)\n",
    "f1_l1_dev = f1_score(y_dev, preds_l1_dev)\n",
    "print(f1_l1_dev)"
   ]
  },
  {
   "cell_type": "markdown",
   "id": "6dd54028",
   "metadata": {},
   "source": [
    "There is an improvement with L1 regularization, in that the model does not seem to be overfitting the training data as badly as it was, and the dev set accuracy is higher than the unregularized version."
   ]
  },
  {
   "cell_type": "markdown",
   "id": "b720f64b",
   "metadata": {},
   "source": [
    "## L2 regularization"
   ]
  },
  {
   "cell_type": "code",
   "execution_count": 33,
   "id": "7cfa196c",
   "metadata": {},
   "outputs": [
    {
     "data": {
      "text/plain": [
       "LogisticRegression(solver='saga')"
      ]
     },
     "execution_count": 33,
     "metadata": {},
     "output_type": "execute_result"
    }
   ],
   "source": [
    "logreg_l2 = LogisticRegression(solver='saga', penalty='l2', max_iter=100)\n",
    "logreg_l2.fit(X_train_cv, y_train)"
   ]
  },
  {
   "cell_type": "markdown",
   "id": "1c1f07c1",
   "metadata": {},
   "source": [
    "### Training set"
   ]
  },
  {
   "cell_type": "code",
   "execution_count": 34,
   "id": "f72fbfd1",
   "metadata": {},
   "outputs": [
    {
     "name": "stdout",
     "output_type": "stream",
     "text": [
      "0.8534939759036144\n"
     ]
    }
   ],
   "source": [
    "preds_l2_train = logreg_l2.predict(X_train_cv)\n",
    "f1_l2_train = f1_score(y_train, preds_l2_train)\n",
    "print(f1_l2_train)"
   ]
  },
  {
   "cell_type": "markdown",
   "id": "d2fdfc76",
   "metadata": {},
   "source": [
    "### Dev set"
   ]
  },
  {
   "cell_type": "code",
   "execution_count": 35,
   "id": "73e7b968",
   "metadata": {},
   "outputs": [
    {
     "name": "stdout",
     "output_type": "stream",
     "text": [
      "0.7368946580129805\n"
     ]
    }
   ],
   "source": [
    "preds_l2_dev = logreg_l2.predict(X_dev_cv)\n",
    "f1_l2_dev = f1_score(y_dev, preds_l2_dev)\n",
    "print(f1_l2_dev)"
   ]
  },
  {
   "cell_type": "markdown",
   "id": "839991a4",
   "metadata": {},
   "source": [
    "L2 regularization seems to be regularizing the model more effectively, given how it does not impact the training accuracy as strongly as L1 regularization does, and it boosts the dev set accuracy slightly more."
   ]
  },
  {
   "cell_type": "markdown",
   "id": "e46d920d",
   "metadata": {},
   "source": [
    "As a result, it is evident that L2 regularization regularizes the model the best. The training set accuracy is appreciably high and the dev set accuracy is the highest of the bunch. This means that the model's learning is not hindered during the training phase, and hence it is able to learn more than it does when L1 regularization is applied, given the fact that the dev set accuracy is higher for the L2 regularized model."
   ]
  },
  {
   "cell_type": "code",
   "execution_count": 36,
   "id": "6743bd02",
   "metadata": {},
   "outputs": [
    {
     "name": "stdout",
     "output_type": "stream",
     "text": [
      "θ with no regularization: \n",
      "[[ 7.89535241 -1.93509431  0.06442277 ...  0.3252434   5.87451079\n",
      "   3.44808668]]\n",
      "θ with L1 regularization: \n",
      "[[0.05889373 0.         0.         ... 0.         0.66671072 0.        ]]\n",
      "θ with L2 regularization: \n",
      "[[ 0.52949306  0.15574657  0.16555223 ...  0.06305008  0.71779843\n",
      "  -0.01728371]]\n"
     ]
    }
   ],
   "source": [
    "print(\"θ with no regularization: \")\n",
    "print(logreg_N.coef_)\n",
    "print(\"θ with L1 regularization: \")\n",
    "print(logreg_l1.coef_)\n",
    "print(\"θ with L2 regularization: \")\n",
    "print(logreg_l2.coef_)"
   ]
  },
  {
   "cell_type": "code",
   "execution_count": 37,
   "id": "c003cf45",
   "metadata": {},
   "outputs": [],
   "source": [
    "keys = cv.vocabulary_.keys()\n",
    "df = pd.DataFrame()\n",
    "df['Keys'] = keys\n",
    "\n",
    "coeff = list(logreg_l2.coef_)\n",
    "\n",
    "df['Coeff'] = list(list(coeff[0]))\n",
    "df = df.sort_values(by = ['Coeff'])"
   ]
  },
  {
   "cell_type": "code",
   "execution_count": 38,
   "id": "5eae5bb1",
   "metadata": {},
   "outputs": [
    {
     "data": {
      "text/html": [
       "<div>\n",
       "<style scoped>\n",
       "    .dataframe tbody tr th:only-of-type {\n",
       "        vertical-align: middle;\n",
       "    }\n",
       "\n",
       "    .dataframe tbody tr th {\n",
       "        vertical-align: top;\n",
       "    }\n",
       "\n",
       "    .dataframe thead th {\n",
       "        text-align: right;\n",
       "    }\n",
       "</style>\n",
       "<table border=\"1\" class=\"dataframe\">\n",
       "  <thead>\n",
       "    <tr style=\"text-align: right;\">\n",
       "      <th></th>\n",
       "      <th>Keys</th>\n",
       "      <th>Coeff</th>\n",
       "    </tr>\n",
       "  </thead>\n",
       "  <tbody>\n",
       "    <tr>\n",
       "      <th>250</th>\n",
       "      <td>name</td>\n",
       "      <td>1.569606</td>\n",
       "    </tr>\n",
       "    <tr>\n",
       "      <th>1522</th>\n",
       "      <td>young</td>\n",
       "      <td>1.573785</td>\n",
       "    </tr>\n",
       "    <tr>\n",
       "      <th>356</th>\n",
       "      <td>obama</td>\n",
       "      <td>1.582343</td>\n",
       "    </tr>\n",
       "    <tr>\n",
       "      <th>355</th>\n",
       "      <td>cut</td>\n",
       "      <td>1.586302</td>\n",
       "    </tr>\n",
       "    <tr>\n",
       "      <th>1021</th>\n",
       "      <td>stay</td>\n",
       "      <td>1.588832</td>\n",
       "    </tr>\n",
       "    <tr>\n",
       "      <th>384</th>\n",
       "      <td>release</td>\n",
       "      <td>1.596194</td>\n",
       "    </tr>\n",
       "    <tr>\n",
       "      <th>274</th>\n",
       "      <td>automatic</td>\n",
       "      <td>1.616120</td>\n",
       "    </tr>\n",
       "    <tr>\n",
       "      <th>213</th>\n",
       "      <td>destroy</td>\n",
       "      <td>1.617317</td>\n",
       "    </tr>\n",
       "    <tr>\n",
       "      <th>955</th>\n",
       "      <td>equipment</td>\n",
       "      <td>1.618753</td>\n",
       "    </tr>\n",
       "    <tr>\n",
       "      <th>1437</th>\n",
       "      <td>rn</td>\n",
       "      <td>1.683547</td>\n",
       "    </tr>\n",
       "    <tr>\n",
       "      <th>1290</th>\n",
       "      <td>worry</td>\n",
       "      <td>1.734304</td>\n",
       "    </tr>\n",
       "    <tr>\n",
       "      <th>1326</th>\n",
       "      <td>link</td>\n",
       "      <td>1.763474</td>\n",
       "    </tr>\n",
       "    <tr>\n",
       "      <th>271</th>\n",
       "      <td>hand</td>\n",
       "      <td>1.840569</td>\n",
       "    </tr>\n",
       "    <tr>\n",
       "      <th>444</th>\n",
       "      <td>evacuation</td>\n",
       "      <td>1.907564</td>\n",
       "    </tr>\n",
       "    <tr>\n",
       "      <th>489</th>\n",
       "      <td>affected</td>\n",
       "      <td>1.924017</td>\n",
       "    </tr>\n",
       "    <tr>\n",
       "      <th>1367</th>\n",
       "      <td>2014</td>\n",
       "      <td>1.978534</td>\n",
       "    </tr>\n",
       "    <tr>\n",
       "      <th>400</th>\n",
       "      <td>18</td>\n",
       "      <td>2.027841</td>\n",
       "    </tr>\n",
       "    <tr>\n",
       "      <th>1569</th>\n",
       "      <td>rocky</td>\n",
       "      <td>2.035121</td>\n",
       "    </tr>\n",
       "    <tr>\n",
       "      <th>457</th>\n",
       "      <td>derailment</td>\n",
       "      <td>2.096568</td>\n",
       "    </tr>\n",
       "    <tr>\n",
       "      <th>703</th>\n",
       "      <td>nah</td>\n",
       "      <td>2.521975</td>\n",
       "    </tr>\n",
       "  </tbody>\n",
       "</table>\n",
       "</div>"
      ],
      "text/plain": [
       "            Keys     Coeff\n",
       "250         name  1.569606\n",
       "1522       young  1.573785\n",
       "356        obama  1.582343\n",
       "355          cut  1.586302\n",
       "1021        stay  1.588832\n",
       "384      release  1.596194\n",
       "274    automatic  1.616120\n",
       "213      destroy  1.617317\n",
       "955    equipment  1.618753\n",
       "1437          rn  1.683547\n",
       "1290       worry  1.734304\n",
       "1326        link  1.763474\n",
       "271         hand  1.840569\n",
       "444   evacuation  1.907564\n",
       "489     affected  1.924017\n",
       "1367        2014  1.978534\n",
       "400           18  2.027841\n",
       "1569       rocky  2.035121\n",
       "457   derailment  2.096568\n",
       "703          nah  2.521975"
      ]
     },
     "execution_count": 38,
     "metadata": {},
     "output_type": "execute_result"
    }
   ],
   "source": [
    "df.tail(20)"
   ]
  },
  {
   "cell_type": "markdown",
   "id": "2b3a48cb",
   "metadata": {},
   "source": [
    "# Bernoulli Naive Bayes'"
   ]
  },
  {
   "cell_type": "code",
   "execution_count": 39,
   "id": "237c406b",
   "metadata": {},
   "outputs": [
    {
     "name": "stdout",
     "output_type": "stream",
     "text": [
      "[[0.00138026 0.00069013 0.00138026 ... 0.00207039 0.00207039 0.00276052]\n",
      " [0.00362647 0.00453309 0.00181324 ... 0.00407978 0.0049864  0.00362647]]\n"
     ]
    }
   ],
   "source": [
    "n = X_train_cv.shape[0]\n",
    "d = X_train_cv.shape[1]\n",
    "K = 2\n",
    "alpha = 1\n",
    "\n",
    "psis = np.zeros([K,d])\n",
    "phis = np.zeros([K])\n",
    "\n",
    "for k in range(K):\n",
    "    X_k = X_train_cv[y_train == k]\n",
    "    sum_rows = []\n",
    "    for i in range(d):\n",
    "        sum_rows.append((np.sum(X_k[i])+ alpha) / (X_k.shape[0]+2*alpha))\n",
    "    psis[k] = sum_rows\n",
    "    phis[k] = X_k.shape[0] / float(n) \n",
    "    \n",
    "print(psis)"
   ]
  },
  {
   "cell_type": "code",
   "execution_count": 40,
   "id": "ec76ccec",
   "metadata": {},
   "outputs": [
    {
     "name": "stdout",
     "output_type": "stream",
     "text": [
      "[0 0 1 1 1 1 0 1 1 0]\n"
     ]
    }
   ],
   "source": [
    "def nb_predictions(x, psis, phis):\n",
    "    K=2\n",
    "    n, d=x.shape\n",
    "    x=np.reshape(x, (1, n, d))\n",
    "    psis=np.reshape(psis, (K,1, d))\n",
    "    \n",
    "    psis=psis.clip(1e-14,1-1e-14)\n",
    "    \n",
    "    logpy=np.log(phis).reshape([K,1])\n",
    "    logpxy=x*np.log(psis)+(1-x)*np.log(1-psis)\n",
    "    logpyx=logpxy.sum(axis=2)+logpy\n",
    "    \n",
    "    return logpyx.argmax(axis=0).flatten(), logpyx.reshape([K,n])\n",
    "\n",
    "train_idx, train_logpyx=nb_predictions(X_train_cv.toarray(), psis, phis)\n",
    "print(train_idx[:10])"
   ]
  },
  {
   "cell_type": "code",
   "execution_count": 41,
   "id": "2a86bd94",
   "metadata": {},
   "outputs": [
    {
     "name": "stdout",
     "output_type": "stream",
     "text": [
      "0.5359342915811088\n"
     ]
    }
   ],
   "source": [
    "f1_bayes_train = f1_score(y_train, train_idx)\n",
    "print(f1_bayes_train)"
   ]
  },
  {
   "cell_type": "code",
   "execution_count": 42,
   "id": "add1b7f6",
   "metadata": {},
   "outputs": [
    {
     "name": "stdout",
     "output_type": "stream",
     "text": [
      "[0 0 0 1 0 0 0 1 1 0]\n"
     ]
    }
   ],
   "source": [
    "dev_idx, dev_logpyx=nb_predictions(X_dev_cv.toarray(), psis, phis)\n",
    "print(dev_idx[:10])"
   ]
  },
  {
   "cell_type": "code",
   "execution_count": 43,
   "id": "099a9b0f",
   "metadata": {},
   "outputs": [
    {
     "name": "stdout",
     "output_type": "stream",
     "text": [
      "0.5101075268817205\n"
     ]
    }
   ],
   "source": [
    "f1_bayes_dev = f1_score(y_dev, dev_idx)\n",
    "print(f1_bayes_dev)"
   ]
  },
  {
   "cell_type": "markdown",
   "id": "01791aa0",
   "metadata": {},
   "source": [
    "# N-Gram modelling"
   ]
  },
  {
   "cell_type": "code",
   "execution_count": 44,
   "id": "ba01653d",
   "metadata": {},
   "outputs": [
    {
     "data": {
      "image/png": "[encoded data removed]",
      "text/plain": [
       "<Figure size 432x288 with 1 Axes>"
      ]
     },
     "metadata": {
      "needs_background": "light"
     },
     "output_type": "display_data"
    }
   ],
   "source": [
    "data = []\n",
    "for i in range(1,15):\n",
    "    cVect= CountVectorizer(min_df=i, binary=True, tokenizer=dummy, preprocessor=dummy, ngram_range = (1,2))\n",
    "    tFit = cVect.fit_transform(X_train['text'])\n",
    "    data.append(tFit.shape[1])\n",
    "    \n",
    "plt.scatter(list(range(1,15)), data)\n",
    "plt.xlabel('min_df')\n",
    "plt.ylabel('No. of features')\n",
    "plt.show()"
   ]
  },
  {
   "cell_type": "markdown",
   "id": "dd128b71",
   "metadata": {},
   "source": [
    "We set min_df to 4 using the same logic as the one used for the bag-of-words model."
   ]
  },
  {
   "cell_type": "code",
   "execution_count": 45,
   "id": "a700ce7b",
   "metadata": {
    "scrolled": false
   },
   "outputs": [],
   "source": [
    "ngram_train = CountVectorizer(min_df=4, binary=True, tokenizer=dummy, preprocessor=dummy, ngram_range = (1,2))  \n",
    "X_train_ngram = ngram_train.fit_transform(X_train['text'])"
   ]
  },
  {
   "cell_type": "code",
   "execution_count": 67,
   "id": "dbd6c566",
   "metadata": {},
   "outputs": [
    {
     "name": "stdout",
     "output_type": "stream",
     "text": [
      "potus strategicpatience\n",
      "strategicpatience strategy\n",
      "strategy genocide\n",
      "genocide refugees\n",
      "refugees idp\n",
      "idp internally\n",
      "internally displaced\n",
      "displaced people\n",
      "people horror\n",
      "horror etc\n"
     ]
    }
   ],
   "source": [
    "count = 0\n",
    "n = 0\n",
    "for key in ngram_train.vocabulary_.keys():\n",
    "    if ' ' in key:\n",
    "        count+=1\n",
    "        if n<10:\n",
    "            print(key)\n",
    "            n+=1"
   ]
  },
  {
   "cell_type": "code",
   "execution_count": null,
   "id": "7a3e614b",
   "metadata": {},
   "outputs": [],
   "source": [
    "print(\"Number of 2-gram words: \"+str(count))"
   ]
  },
  {
   "cell_type": "code",
   "execution_count": 47,
   "id": "0924f34b",
   "metadata": {},
   "outputs": [
    {
     "name": "stdout",
     "output_type": "stream",
     "text": [
      "Number of 1-gram words: 2382\n"
     ]
    }
   ],
   "source": [
    "print(\"Number of 1-gram words: \"+str(len(ngram_train.vocabulary_.keys()) - count))"
   ]
  },
  {
   "cell_type": "code",
   "execution_count": 48,
   "id": "d80d679a",
   "metadata": {},
   "outputs": [],
   "source": [
    "ngram_dev = CountVectorizer(min_df=4, binary=True, vocabulary=ngram_train.get_feature_names(),tokenizer=dummy, preprocessor=dummy, ngram_range = (1,2))  \n",
    "X_dev_ngram = ngram_dev.fit_transform(X_dev['text'])"
   ]
  },
  {
   "cell_type": "markdown",
   "id": "cf90163a",
   "metadata": {},
   "source": [
    "## Logistic Regression: N-Gram"
   ]
  },
  {
   "cell_type": "code",
   "execution_count": 49,
   "id": "b4fc1ec1",
   "metadata": {},
   "outputs": [
    {
     "data": {
      "text/plain": [
       "LogisticRegression(max_iter=200, solver='saga')"
      ]
     },
     "execution_count": 49,
     "metadata": {},
     "output_type": "execute_result"
    }
   ],
   "source": [
    "logreg_l2_ngram = LogisticRegression(solver='saga', penalty='l2', max_iter=200)\n",
    "logreg_l2_ngram.fit(X_train_ngram, y_train)"
   ]
  },
  {
   "cell_type": "markdown",
   "id": "99e0a9d6",
   "metadata": {},
   "source": [
    "### Training"
   ]
  },
  {
   "cell_type": "code",
   "execution_count": 50,
   "id": "0c31088c",
   "metadata": {},
   "outputs": [
    {
     "name": "stdout",
     "output_type": "stream",
     "text": [
      "0.8864942528735632\n"
     ]
    }
   ],
   "source": [
    "preds_l2_train_ngram = logreg_l2_ngram.predict(X_train_ngram)\n",
    "f1_l2_train_ngram = f1_score(y_train, preds_l2_train_ngram)\n",
    "print(f1_l2_train_ngram)"
   ]
  },
  {
   "cell_type": "markdown",
   "id": "0b527610",
   "metadata": {},
   "source": [
    "### Dev"
   ]
  },
  {
   "cell_type": "code",
   "execution_count": 51,
   "id": "de1aae4b",
   "metadata": {},
   "outputs": [
    {
     "name": "stdout",
     "output_type": "stream",
     "text": [
      "0.7430278884462151\n"
     ]
    }
   ],
   "source": [
    "preds_l2_dev_ngram = logreg_l2_ngram.predict(X_dev_ngram)\n",
    "f1_l2_dev_ngram = f1_score(y_dev, preds_l2_dev_ngram)\n",
    "print(f1_l2_dev_ngram)"
   ]
  },
  {
   "cell_type": "markdown",
   "id": "ba83c357",
   "metadata": {},
   "source": [
    "## Bernoulli Naive Bayes': N-Gram"
   ]
  },
  {
   "cell_type": "code",
   "execution_count": 52,
   "id": "4f353a0c",
   "metadata": {},
   "outputs": [
    {
     "name": "stdout",
     "output_type": "stream",
     "text": [
      "[[0.00138026 0.00069013 0.00138026 ... 0.         0.         0.        ]\n",
      " [0.00362647 0.0099728  0.00226655 ... 0.         0.         0.        ]]\n"
     ]
    }
   ],
   "source": [
    "n = X_train_ngram.shape[0]\n",
    "d = X_train_ngram.shape[1]\n",
    "K = 2\n",
    "alpha = 1\n",
    "\n",
    "psis = np.zeros([K,d])\n",
    "phis = np.zeros([K])\n",
    "\n",
    "for k in range(K):\n",
    "    X_k = X_train_ngram[y_train == k]\n",
    "    sum_rows = []\n",
    "    for i in range(d):\n",
    "        if i>=X_k.shape[0]:\n",
    "            sum_rows.append(0)\n",
    "        else:\n",
    "            sum_rows.append((np.sum(X_k[i])+ alpha) / (X_k.shape[0]+2*alpha))\n",
    "    psis[k] = sum_rows\n",
    "    phis[k] = X_k.shape[0] / float(n) \n",
    "    \n",
    "print(psis)"
   ]
  },
  {
   "cell_type": "code",
   "execution_count": 53,
   "id": "d83a2139",
   "metadata": {},
   "outputs": [
    {
     "name": "stdout",
     "output_type": "stream",
     "text": [
      "[0 0 1 0 0 0 0 0 0 0]\n"
     ]
    }
   ],
   "source": [
    "train_ngram_idx, train_ngram_logpyx=nb_predictions(X_train_ngram.toarray(), psis, phis)\n",
    "print(train_ngram_idx[:10])"
   ]
  },
  {
   "cell_type": "code",
   "execution_count": 54,
   "id": "09185baf",
   "metadata": {},
   "outputs": [
    {
     "name": "stdout",
     "output_type": "stream",
     "text": [
      "0.5359342915811088\n"
     ]
    }
   ],
   "source": [
    "f1_bayes_train_ngram = f1_score(y_train, train_idx)\n",
    "print(f1_bayes_train_ngram)"
   ]
  },
  {
   "cell_type": "code",
   "execution_count": 55,
   "id": "6e290f9f",
   "metadata": {},
   "outputs": [
    {
     "name": "stdout",
     "output_type": "stream",
     "text": [
      "[0 0 0 0 0 0 1 0 0 0]\n"
     ]
    }
   ],
   "source": [
    "dev_ngram_idx, dev_ngram_logpyx=nb_predictions(X_dev_ngram.toarray(), psis, phis)\n",
    "print(dev_ngram_idx[:10])"
   ]
  },
  {
   "cell_type": "code",
   "execution_count": 56,
   "id": "63c25289",
   "metadata": {},
   "outputs": [
    {
     "name": "stdout",
     "output_type": "stream",
     "text": [
      "0.18631732168850074\n"
     ]
    }
   ],
   "source": [
    "f1_bayes_dev_ngram = f1_score(y_dev, dev_ngram_idx)\n",
    "print(f1_bayes_dev_ngram)"
   ]
  },
  {
   "cell_type": "markdown",
   "id": "5cdeb641",
   "metadata": {},
   "source": [
    "# Final run"
   ]
  },
  {
   "cell_type": "markdown",
   "id": "f7a2dbfc",
   "metadata": {},
   "source": [
    "## The best performing model in our experiments has been the N-Gram model with L2 regularized Logistic Regression. Hence we decide to use this model, train it on the whole training set, and then run it on the test set to submit to Kaggle."
   ]
  },
  {
   "cell_type": "code",
   "execution_count": 57,
   "id": "006ff0d5",
   "metadata": {},
   "outputs": [
    {
     "data": {
      "image/png": "[encoded data removed]",
      "text/plain": [
       "<Figure size 432x288 with 1 Axes>"
      ]
     },
     "metadata": {
      "needs_background": "light"
     },
     "output_type": "display_data"
    }
   ],
   "source": [
    "data = []\n",
    "for i in range(1,15):\n",
    "    cVect= CountVectorizer(min_df=i, binary=True, tokenizer=dummy, preprocessor=dummy, ngram_range = (1,2))\n",
    "    tFit = cVect.fit_transform(X['text'])\n",
    "    data.append(tFit.shape[1])\n",
    "    \n",
    "plt.scatter(list(range(1,15)), data)\n",
    "plt.xlabel('min_df')\n",
    "plt.ylabel('No. of features')\n",
    "plt.show()"
   ]
  },
  {
   "cell_type": "code",
   "execution_count": 58,
   "id": "021c9eeb",
   "metadata": {},
   "outputs": [],
   "source": [
    "ngram_X = CountVectorizer(min_df=4, binary=True, tokenizer=dummy, preprocessor=dummy, ngram_range = (1,2))  \n",
    "X_ngram_vect = ngram_X.fit_transform(X['text'])"
   ]
  },
  {
   "cell_type": "code",
   "execution_count": 59,
   "id": "83d6af9f",
   "metadata": {},
   "outputs": [],
   "source": [
    "ngram_test = CountVectorizer(min_df=4, binary=True, vocabulary=ngram_X.get_feature_names(),tokenizer=dummy, preprocessor=dummy, ngram_range = (1,2))  \n",
    "test_ngram_vect = ngram_test.fit_transform(t['text'])"
   ]
  },
  {
   "cell_type": "code",
   "execution_count": 60,
   "id": "edbe2d04",
   "metadata": {},
   "outputs": [
    {
     "data": {
      "text/plain": [
       "LogisticRegression(max_iter=200, solver='saga')"
      ]
     },
     "execution_count": 60,
     "metadata": {},
     "output_type": "execute_result"
    }
   ],
   "source": [
    "logreg_l2_ngram_X = LogisticRegression(solver='saga', penalty='l2', max_iter=200)\n",
    "logreg_l2_ngram_X.fit(X_ngram_vect, y)"
   ]
  },
  {
   "cell_type": "code",
   "execution_count": 61,
   "id": "32cfc355",
   "metadata": {},
   "outputs": [
    {
     "name": "stdout",
     "output_type": "stream",
     "text": [
      "0.8825819007460266\n"
     ]
    }
   ],
   "source": [
    "preds_l2_X_ngram = logreg_l2_ngram_X.predict(X_ngram_vect)\n",
    "f1_l2_X_ngram = f1_score(y, preds_l2_X_ngram)\n",
    "print(f1_l2_X_ngram)"
   ]
  },
  {
   "cell_type": "code",
   "execution_count": 62,
   "id": "0145c3a3",
   "metadata": {},
   "outputs": [],
   "source": [
    "preds_l2_test_ngram = logreg_l2_ngram_X.predict(test_ngram_vect)"
   ]
  },
  {
   "cell_type": "code",
   "execution_count": 63,
   "id": "ad5f7c02",
   "metadata": {
    "scrolled": true
   },
   "outputs": [],
   "source": [
    "final_preds = pd.DataFrame()\n",
    "final_preds['id'] = t['id']\n",
    "final_preds['target'] = preds_l2_test_ngram"
   ]
  },
  {
   "cell_type": "code",
   "execution_count": 64,
   "id": "4bc11cb1",
   "metadata": {},
   "outputs": [],
   "source": [
    "#final_preds.to_csv('sub.csv', index=False)"
   ]
  }
 ],
 "metadata": {
  "kernelspec": {
   "display_name": "Python 3 (ipykernel)",
   "language": "python",
   "name": "python3"
  },
  "language_info": {
   "codemirror_mode": {
    "name": "ipython",
    "version": 3
   },
   "file_extension": ".py",
   "mimetype": "text/x-python",
   "name": "python",
   "nbconvert_exporter": "python",
   "pygments_lexer": "ipython3",
   "version": "3.9.6"
  }
 },
 "nbformat": 4,
 "nbformat_minor": 5
}
